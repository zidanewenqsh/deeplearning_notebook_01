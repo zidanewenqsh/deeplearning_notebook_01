{
 "cells": [
  {
   "cell_type": "code",
   "execution_count": 1,
   "metadata": {},
   "outputs": [],
   "source": [
    "import numpy as np\n",
    "import os\n",
    "import sys\n",
    "import math\n",
    "import torch\n",
    "import time\n",
    "import cv2\n",
    "from matplotlib import pyplot as plt\n",
    "from torchvision import transforms\n",
    "from IPython.core.interactiveshell import InteractiveShell\n",
    "InteractiveShell.ast_node_interactivity = \"all\""
   ]
  },
  {
   "cell_type": "markdown",
   "metadata": {},
   "source": [
    "# title\n",
    "\n",
    "$y=\\int_0^1 x$"
   ]
  },
  {
   "cell_type": "code",
   "execution_count": 5,
   "metadata": {},
   "outputs": [
    {
     "data": {
      "text/plain": [
       "1600915631.5217078"
      ]
     },
     "execution_count": 5,
     "metadata": {},
     "output_type": "execute_result"
    }
   ],
   "source": [
    "t1 = time.time()\n",
    "t1"
   ]
  },
  {
   "cell_type": "code",
   "execution_count": 6,
   "metadata": {},
   "outputs": [],
   "source": [
    "t2 = time.time()"
   ]
  },
  {
   "cell_type": "code",
   "execution_count": 2,
   "metadata": {},
   "outputs": [
    {
     "data": {
      "text/plain": [
       "'12/30/2020 02:55:34'"
      ]
     },
     "execution_count": 2,
     "metadata": {},
     "output_type": "execute_result"
    },
    {
     "data": {
      "text/plain": [
       "'Dec/30/2020 02:55:35'"
      ]
     },
     "execution_count": 2,
     "metadata": {},
     "output_type": "execute_result"
    },
    {
     "data": {
      "text/plain": [
       "time.struct_time(tm_year=2020, tm_mon=12, tm_mday=30, tm_hour=2, tm_min=55, tm_sec=35, tm_wday=2, tm_yday=365, tm_isdst=0)"
      ]
     },
     "execution_count": 2,
     "metadata": {},
     "output_type": "execute_result"
    }
   ],
   "source": [
    "t1 = time.localtime()\n",
    "t3 = time.strftime(\"%m/%d/%Y %H:%M:%S\", t1)\n",
    "time.sleep(1)\n",
    "t2 = time.localtime()\n",
    "t4 = time.strftime(\"%b/%d/%Y %H:%M:%S\", t2)\n",
    "t3\n",
    "t4\n",
    "t2\n"
   ]
  },
  {
   "cell_type": "code",
   "execution_count": 25,
   "metadata": {},
   "outputs": [
    {
     "data": {
      "text/plain": [
       "1600919319"
      ]
     },
     "execution_count": 25,
     "metadata": {},
     "output_type": "execute_result"
    }
   ],
   "source": [
    "t1 = time.time()\n",
    "t1 = int(t1)\n",
    "int(t1)"
   ]
  },
  {
   "cell_type": "code",
   "execution_count": 27,
   "metadata": {},
   "outputs": [
    {
     "data": {
      "text/plain": [
       "1600919347"
      ]
     },
     "execution_count": 27,
     "metadata": {},
     "output_type": "execute_result"
    }
   ],
   "source": [
    "t2 = time.time()\n",
    "t2 = int(t2)\n",
    "t2\n"
   ]
  },
  {
   "cell_type": "code",
   "execution_count": null,
   "metadata": {},
   "outputs": [],
   "source": [
    "t2 = 100\n",
    "# t2 = int(ti)"
   ]
  },
  {
   "cell_type": "code",
   "execution_count": 6,
   "metadata": {
    "scrolled": true
   },
   "outputs": [
    {
     "data": {
      "text/plain": [
       "array([[0, 0],\n",
       "       [1, 1],\n",
       "       [2, 2],\n",
       "       [3, 3],\n",
       "       [4, 4],\n",
       "       [5, 5]])"
      ]
     },
     "execution_count": 6,
     "metadata": {},
     "output_type": "execute_result"
    }
   ],
   "source": [
    "a = np.arange(6).reshape(-1,1)\n",
    "b = np.arange(6).reshape(-1,1)\n",
    "c = np.concatenate((a,b), axis=1)\n",
    "c\n"
   ]
  },
  {
   "cell_type": "markdown",
   "metadata": {},
   "source": [
    "###  高斯"
   ]
  },
  {
   "cell_type": "code",
   "execution_count": 5,
   "metadata": {
    "scrolled": true
   },
   "outputs": [
    {
     "data": {
      "image/png": "[encoded data removed]",
      "text/plain": [
       "<Figure size 432x288 with 1 Axes>"
      ]
     },
     "metadata": {
      "needs_background": "light"
     },
     "output_type": "display_data"
    }
   ],
   "source": [
    "mu = torch.ones(10000)*130\n",
    "sigma = torch.ones(10000)*50\n",
    "a = torch.normal(mu, sigma).long()\n",
    "a = a.numpy()\n",
    "a = a[a>60]\n",
    "a = a[a<200]\n",
    "b = plt.hist(a, bins=30)\n",
    "plt.show()"
   ]
  },
  {
   "cell_type": "code",
   "execution_count": 6,
   "metadata": {
    "scrolled": true
   },
   "outputs": [
    {
     "data": {
      "image/png": "[encoded data removed]",
      "text/plain": [
       "<Figure size 432x288 with 1 Axes>"
      ]
     },
     "metadata": {
      "needs_background": "light"
     },
     "output_type": "display_data"
    }
   ],
   "source": [
    "mu = torch.ones(10000)*160\n",
    "sigma = torch.ones(10000)*50\n",
    "a = torch.normal(mu, sigma).long()\n",
    "a = a.numpy()\n",
    "a = a[a>50]\n",
    "a = a[a<250]\n",
    "b = plt.hist(a, bins=30)\n",
    "plt.show()"
   ]
  },
  {
   "cell_type": "code",
   "execution_count": 104,
   "metadata": {
    "scrolled": true
   },
   "outputs": [
    {
     "data": {
      "image/png": "[encoded data removed]",
      "text/plain": [
       "<Figure size 432x288 with 1 Axes>"
      ]
     },
     "metadata": {
      "needs_background": "light"
     },
     "output_type": "display_data"
    }
   ],
   "source": [
    "mu = torch.ones(10000)*90\n",
    "sigma = torch.ones(10000)*20\n",
    "a = torch.normal(mu, sigma).long()\n",
    "a = a.numpy()\n",
    "a = a[a>60]\n",
    "a = a[a<120]\n",
    "b = plt.hist(a, bins=100)\n",
    "plt.show()"
   ]
  },
  {
   "cell_type": "code",
   "execution_count": 20,
   "metadata": {},
   "outputs": [
    {
     "data": {
      "text/plain": [
       "array([5.79244399e+00, 8.68075638e-01, 1.16522155e-01, 5.76327477e+00,\n",
       "       4.39712856e+00, 5.24464806e+00, 6.24679146e+00, 4.81271606e+00,\n",
       "       5.15311220e+00, 4.49405043e+00, 2.09761808e+00, 2.40636905e+00,\n",
       "       1.97741499e+00, 5.86100846e+00, 3.75869070e+00, 5.53376807e+00,\n",
       "       5.41383758e-01, 4.78448017e-01, 1.45955265e+00, 4.35932218e+00,\n",
       "       6.26983658e+00, 2.95038162e+00, 6.14831515e-01, 2.57402833e+00,\n",
       "       1.55416635e+00, 4.05653130e+00, 2.82224752e-01, 4.30973135e+00,\n",
       "       3.77984738e+00, 2.14652433e+00, 3.43173852e+00, 3.58232834e-01,\n",
       "       2.16288472e-01, 1.49574356e+00, 4.70125547e+00, 4.90100262e+00,\n",
       "       2.89037098e+00, 1.99868049e+00, 1.70252547e+00, 2.22058409e+00,\n",
       "       2.53302374e+00, 7.46146407e-01, 1.24145374e+00, 1.64652358e+00,\n",
       "       4.87628436e-01, 9.18407265e-02, 3.30376947e+00, 3.11556663e+00,\n",
       "       5.29101489e+00, 1.86336063e+00, 1.78496696e+00, 4.57638980e+00,\n",
       "       4.98386747e+00, 2.62232744e+00, 2.41844438e+00, 8.72667859e-01,\n",
       "       1.46999516e+00, 2.46811188e+00, 3.20728317e+00, 3.52267774e-01,\n",
       "       4.94134944e+00, 5.08067481e+00, 5.63537949e+00, 5.43444333e+00,\n",
       "       4.40586787e+00, 3.68130687e-01, 2.52209961e-02, 5.83494842e+00,\n",
       "       6.27506309e+00, 5.92935997e+00, 7.68358761e-01, 1.38543039e-01,\n",
       "       6.07878667e+00, 3.56728664e+00, 5.52059204e+00, 5.56921177e+00,\n",
       "       3.75512849e+00, 1.93015488e+00, 3.65304574e-02, 6.34611929e-01,\n",
       "       8.01366970e-01, 6.61450598e-01, 1.60529531e+00, 4.79242076e-01,\n",
       "       4.10550938e+00, 5.47479738e+00, 2.16636610e+00, 3.28498560e+00,\n",
       "       2.05609318e+00, 1.06337043e+00, 4.10931408e-01, 3.73037838e-01,\n",
       "       9.28284967e-01, 1.01327619e+00, 6.18554130e+00, 6.31103679e-01,\n",
       "       3.70941301e+00, 1.07553601e+00, 1.43218597e-03, 2.70104377e+00])"
      ]
     },
     "execution_count": 20,
     "metadata": {},
     "output_type": "execute_result"
    }
   ],
   "source": [
    "a = np.random.uniform(0, 2*np.pi,(100))\n",
    "a"
   ]
  },
  {
   "cell_type": "code",
   "execution_count": 24,
   "metadata": {},
   "outputs": [
    {
     "data": {
      "text/plain": [
       "tensor([[-2.5106,  0.4462],\n",
       "        [ 0.8843, -1.4165],\n",
       "        [ 1.6023,  0.5669],\n",
       "        [-0.4701, -0.1243]])"
      ]
     },
     "execution_count": 24,
     "metadata": {},
     "output_type": "execute_result"
    },
    {
     "data": {
      "text/plain": [
       "torch.return_types.max(\n",
       "values=tensor([ 0.4462,  0.8843,  1.6023, -0.1243]),\n",
       "indices=tensor([1, 0, 0, 1]))"
      ]
     },
     "execution_count": 24,
     "metadata": {},
     "output_type": "execute_result"
    }
   ],
   "source": [
    "a = torch.randn(4,2)\n",
    "a\n",
    "b = torch.max(a,1)\n",
    "b"
   ]
  },
  {
   "cell_type": "code",
   "execution_count": 38,
   "metadata": {},
   "outputs": [
    {
     "data": {
      "text/plain": [
       "76.44999999999999"
      ]
     },
     "execution_count": 38,
     "metadata": {},
     "output_type": "execute_result"
    },
    {
     "data": {
      "text/plain": [
       "False"
      ]
     },
     "execution_count": 38,
     "metadata": {},
     "output_type": "execute_result"
    },
    {
     "data": {
      "text/plain": [
       "True"
      ]
     },
     "execution_count": 38,
     "metadata": {},
     "output_type": "execute_result"
    },
    {
     "data": {
      "text/plain": [
       "False"
      ]
     },
     "execution_count": 38,
     "metadata": {},
     "output_type": "execute_result"
    },
    {
     "data": {
      "text/plain": [
       "True"
      ]
     },
     "execution_count": 38,
     "metadata": {},
     "output_type": "execute_result"
    }
   ],
   "source": [
    "a = range(75, 95)\n",
    "b = 0.7645\n",
    "c = 100 * b\n",
    "c\n",
    "c in a\n",
    "int(c) in a\n",
    "100*b in a\n",
    "100*b not in a"
   ]
  },
  {
   "cell_type": "code",
   "execution_count": 44,
   "metadata": {},
   "outputs": [
    {
     "data": {
      "text/plain": [
       "[4, 3, 0, 1, 2]"
      ]
     },
     "execution_count": 44,
     "metadata": {},
     "output_type": "execute_result"
    }
   ],
   "source": [
    "a = [1,2,3,4,5]\n",
    "b = torch.randperm(5).long().tolist()\n",
    "b\n",
    "# a[b]"
   ]
  },
  {
   "cell_type": "code",
   "execution_count": 4,
   "metadata": {},
   "outputs": [
    {
     "data": {
      "text/plain": [
       "12.0"
      ]
     },
     "execution_count": 4,
     "metadata": {},
     "output_type": "execute_result"
    }
   ],
   "source": [
    "384/32\n"
   ]
  },
  {
   "cell_type": "code",
   "execution_count": 5,
   "metadata": {},
   "outputs": [
    {
     "data": {
      "text/plain": [
       "array([3, 2, 4])"
      ]
     },
     "execution_count": 5,
     "metadata": {},
     "output_type": "execute_result"
    }
   ],
   "source": [
    "a = np.arange(1,10)\n",
    "b = a[[2,1,3]]\n",
    "b"
   ]
  },
  {
   "cell_type": "code",
   "execution_count": 8,
   "metadata": {},
   "outputs": [
    {
     "data": {
      "text/plain": [
       "1"
      ]
     },
     "execution_count": 8,
     "metadata": {},
     "output_type": "execute_result"
    }
   ],
   "source": [
    "a = np.array([1])\n",
    "b = a.item()\n",
    "b"
   ]
  },
  {
   "cell_type": "code",
   "execution_count": 52,
   "metadata": {
    "scrolled": false
   },
   "outputs": [
    {
     "data": {
      "text/plain": [
       "3"
      ]
     },
     "execution_count": 52,
     "metadata": {},
     "output_type": "execute_result"
    }
   ],
   "source": [
    "i = 0\n",
    "np.random.randint(10)"
   ]
  },
  {
   "cell_type": "code",
   "execution_count": 70,
   "metadata": {},
   "outputs": [
    {
     "data": {
      "text/plain": [
       "5040"
      ]
     },
     "execution_count": 70,
     "metadata": {},
     "output_type": "execute_result"
    }
   ],
   "source": [
    "a = 1\n",
    "for i in range(1,8):\n",
    "    a *= i\n",
    "a"
   ]
  },
  {
   "cell_type": "code",
   "execution_count": 121,
   "metadata": {},
   "outputs": [
    {
     "name": "stdout",
     "output_type": "stream",
     "text": [
      "j=1,k=51\n",
      "j=2,k=30\n",
      "j=3,k=23\n",
      "j=4,k=17\n",
      "j=5,k=15\n"
     ]
    }
   ],
   "source": [
    "for j in range(1, 6):\n",
    "    k = 0\n",
    "    for i in range(100):\n",
    "        a = np.random.randint(10)\n",
    "        if a % (j+1) == 1:\n",
    "            k += 1\n",
    "    print(f\"j={j},k={k}\")\n",
    "    \n",
    "        "
   ]
  },
  {
   "cell_type": "code",
   "execution_count": 4,
   "metadata": {},
   "outputs": [
    {
     "data": {
      "text/plain": [
       "torch.Size([1, 64, 5, 7])"
      ]
     },
     "execution_count": 4,
     "metadata": {},
     "output_type": "execute_result"
    }
   ],
   "source": [
    "m = torch.nn.AdaptiveMaxPool2d((5, 7))\n",
    "input1 = torch.randn(1, 64, 10, 9)\n",
    "output = m(input1)\n",
    "output.shape"
   ]
  },
  {
   "cell_type": "code",
   "execution_count": 207,
   "metadata": {},
   "outputs": [
    {
     "data": {
      "text/plain": [
       "3"
      ]
     },
     "execution_count": 207,
     "metadata": {},
     "output_type": "execute_result"
    }
   ],
   "source": [
    "i1 = [0.1,0.1,1]\n",
    "# i1 = [0.9, 0.1]\n",
    "# 按概率取ng图的数量\n",
    "N = torch.multinomial(torch.Tensor(i1), 1, replacement=True).item() + 1\n",
    "N"
   ]
  },
  {
   "cell_type": "code",
   "execution_count": 212,
   "metadata": {},
   "outputs": [
    {
     "ename": "RuntimeError",
     "evalue": "cannot sample n_sample > prob_dist.size(-1) samples without replacement",
     "output_type": "error",
     "traceback": [
      "\u001b[1;31m---------------------------------------------------------------------------\u001b[0m",
      "\u001b[1;31mRuntimeError\u001b[0m                              Traceback (most recent call last)",
      "\u001b[1;32m<ipython-input-212-0479e4770176>\u001b[0m in \u001b[0;36m<module>\u001b[1;34m\u001b[0m\n\u001b[0;32m      2\u001b[0m \u001b[1;31m# i1 = [0.9, 0.1]\u001b[0m\u001b[1;33m\u001b[0m\u001b[1;33m\u001b[0m\u001b[1;33m\u001b[0m\u001b[0m\n\u001b[0;32m      3\u001b[0m \u001b[1;31m# 按概率取ng图的数量\u001b[0m\u001b[1;33m\u001b[0m\u001b[1;33m\u001b[0m\u001b[1;33m\u001b[0m\u001b[0m\n\u001b[1;32m----> 4\u001b[1;33m \u001b[0mN\u001b[0m \u001b[1;33m=\u001b[0m \u001b[0mtorch\u001b[0m\u001b[1;33m.\u001b[0m\u001b[0mmultinomial\u001b[0m\u001b[1;33m(\u001b[0m\u001b[0mtorch\u001b[0m\u001b[1;33m.\u001b[0m\u001b[0mTensor\u001b[0m\u001b[1;33m(\u001b[0m\u001b[0mi1\u001b[0m\u001b[1;33m)\u001b[0m\u001b[1;33m,\u001b[0m \u001b[1;36m4\u001b[0m\u001b[1;33m,\u001b[0m \u001b[0mreplacement\u001b[0m\u001b[1;33m=\u001b[0m\u001b[1;32mFalse\u001b[0m\u001b[1;33m)\u001b[0m\u001b[1;33m\u001b[0m\u001b[1;33m\u001b[0m\u001b[0m\n\u001b[0m\u001b[0;32m      5\u001b[0m \u001b[0mN\u001b[0m\u001b[1;33m\u001b[0m\u001b[1;33m\u001b[0m\u001b[0m\n",
      "\u001b[1;31mRuntimeError\u001b[0m: cannot sample n_sample > prob_dist.size(-1) samples without replacement"
     ]
    }
   ],
   "source": [
    "i1 = [0.1,0.1,1]\n",
    "# i1 = [0.9, 0.1]\n",
    "# 按概率取ng图的数量\n",
    "N = torch.multinomial(torch.Tensor(i1), 4, replacement=False)\n",
    "N"
   ]
  },
  {
   "cell_type": "code",
   "execution_count": 234,
   "metadata": {},
   "outputs": [
    {
     "data": {
      "text/plain": [
       "tensor([[ 0,  1],\n",
       "        [ 2,  3],\n",
       "        [ 4,  5],\n",
       "        [ 6,  7],\n",
       "        [ 8,  9],\n",
       "        [10, 11]])"
      ]
     },
     "execution_count": 234,
     "metadata": {},
     "output_type": "execute_result"
    },
    {
     "data": {
      "text/plain": [
       "tensor([[ 0,  1],\n",
       "        [ 4,  5],\n",
       "        [ 2,  3],\n",
       "        [ 6,  7],\n",
       "        [ 8,  9],\n",
       "        [10, 11]])"
      ]
     },
     "execution_count": 234,
     "metadata": {},
     "output_type": "execute_result"
    }
   ],
   "source": [
    "a = torch.arange(12).reshape(-1,2)\n",
    "a1 = a.clone()\n",
    "a\n",
    "a[1],a[2] = a1[2],a1[1]\n",
    "a"
   ]
  },
  {
   "cell_type": "code",
   "execution_count": 235,
   "metadata": {
    "scrolled": true
   },
   "outputs": [
    {
     "data": {
      "text/plain": [
       "[[0, 1], [2, 3], [4, 5], [6, 7], [8, 9], [10, 11]]"
      ]
     },
     "execution_count": 235,
     "metadata": {},
     "output_type": "execute_result"
    },
    {
     "data": {
      "text/plain": [
       "[[0, 1], [4, 5], [2, 3], [6, 7], [8, 9], [10, 11]]"
      ]
     },
     "execution_count": 235,
     "metadata": {},
     "output_type": "execute_result"
    }
   ],
   "source": [
    "a = torch.arange(12).reshape(-1,2).tolist()\n",
    "# a1 = a.clone()\n",
    "a\n",
    "a[1],a[2] = a[2],a[1]\n",
    "a"
   ]
  },
  {
   "cell_type": "code",
   "execution_count": 239,
   "metadata": {},
   "outputs": [
    {
     "data": {
      "text/plain": [
       "2"
      ]
     },
     "execution_count": 239,
     "metadata": {},
     "output_type": "execute_result"
    }
   ],
   "source": [
    "a = {\n",
    "        13:[[28, 34], [27, 46]],\n",
    "        26:[[25, 33], [19, 33]],\n",
    "        52:[[20, 24], [15, 30]],\n",
    "}\n",
    "# a.values()\n",
    "len(a[13])\n",
    "            "
   ]
  },
  {
   "cell_type": "code",
   "execution_count": 244,
   "metadata": {},
   "outputs": [
    {
     "data": {
      "text/plain": [
       "0.8554089979589068"
      ]
     },
     "execution_count": 244,
     "metadata": {},
     "output_type": "execute_result"
    }
   ],
   "source": [
    "np.random.rand()"
   ]
  },
  {
   "cell_type": "code",
   "execution_count": 262,
   "metadata": {
    "scrolled": true
   },
   "outputs": [
    {
     "ename": "ValueError",
     "evalue": "low >= high",
     "output_type": "error",
     "traceback": [
      "\u001b[1;31m---------------------------------------------------------------------------\u001b[0m",
      "\u001b[1;31mValueError\u001b[0m                                Traceback (most recent call last)",
      "\u001b[1;32m<ipython-input-262-6e0c6ae625e5>\u001b[0m in \u001b[0;36m<module>\u001b[1;34m\u001b[0m\n\u001b[1;32m----> 1\u001b[1;33m \u001b[0mnp\u001b[0m\u001b[1;33m.\u001b[0m\u001b[0mrandom\u001b[0m\u001b[1;33m.\u001b[0m\u001b[0mrandint\u001b[0m\u001b[1;33m(\u001b[0m\u001b[1;36m5\u001b[0m\u001b[1;33m,\u001b[0m\u001b[1;36m3\u001b[0m\u001b[1;33m)\u001b[0m\u001b[1;33m\u001b[0m\u001b[1;33m\u001b[0m\u001b[0m\n\u001b[0m",
      "\u001b[1;32mmtrand.pyx\u001b[0m in \u001b[0;36mnumpy.random.mtrand.RandomState.randint\u001b[1;34m()\u001b[0m\n",
      "\u001b[1;32m_bounded_integers.pyx\u001b[0m in \u001b[0;36mnumpy.random._bounded_integers._rand_int32\u001b[1;34m()\u001b[0m\n",
      "\u001b[1;31mValueError\u001b[0m: low >= high"
     ]
    }
   ],
   "source": [
    "np.random.randint(5,3)"
   ]
  },
  {
   "cell_type": "code",
   "execution_count": 5,
   "metadata": {
    "scrolled": true
   },
   "outputs": [
    {
     "data": {
      "text/plain": [
       "tensor([[ 0,  1,  2,  3,  4,  5,  6,  7,  8,  9],\n",
       "        [10, 11, 12, 13, 14, 15, 16, 17, 18, 19],\n",
       "        [20, 21, 22, 23, 24, 25, 26, 27, 28, 29],\n",
       "        [30, 31, 32, 33, 34, 35, 36, 37, 38, 39],\n",
       "        [40, 41, 42, 43, 44, 45, 46, 47, 48, 49],\n",
       "        [50, 51, 52, 53, 54, 55, 56, 57, 58, 59],\n",
       "        [60, 61, 62, 63, 64, 65, 66, 67, 68, 69],\n",
       "        [70, 71, 72, 73, 74, 75, 76, 77, 78, 79],\n",
       "        [80, 81, 82, 83, 84, 85, 86, 87, 88, 89],\n",
       "        [90, 91, 92, 93, 94, 95, 96, 97, 98, 99]])"
      ]
     },
     "execution_count": 5,
     "metadata": {},
     "output_type": "execute_result"
    }
   ],
   "source": [
    "a = torch.arange(100).reshape(10,10)\n",
    "a"
   ]
  },
  {
   "cell_type": "code",
   "execution_count": 9,
   "metadata": {
    "scrolled": true
   },
   "outputs": [
    {
     "data": {
      "text/plain": [
       "(tensor([[ 0,  1,  2,  3,  4,  5,  6,  7,  8,  9],\n",
       "         [10, 11, 12, 13, 14, 15, 16, 17, 18, 19],\n",
       "         [20, 21, 22, 23, 24, 25, 26, 27, 28, 29],\n",
       "         [30, 31, 32, 33, 34, 35, 36, 37, 38, 39]]),\n",
       " tensor([[40, 41, 42, 43, 44, 45, 46, 47, 48, 49],\n",
       "         [50, 51, 52, 53, 54, 55, 56, 57, 58, 59],\n",
       "         [60, 61, 62, 63, 64, 65, 66, 67, 68, 69],\n",
       "         [70, 71, 72, 73, 74, 75, 76, 77, 78, 79]]),\n",
       " tensor([[80, 81, 82, 83, 84, 85, 86, 87, 88, 89],\n",
       "         [90, 91, 92, 93, 94, 95, 96, 97, 98, 99]]))"
      ]
     },
     "execution_count": 9,
     "metadata": {},
     "output_type": "execute_result"
    }
   ],
   "source": [
    "b = torch.split(a, 4, dim=0)\n",
    "b"
   ]
  },
  {
   "cell_type": "code",
   "execution_count": 11,
   "metadata": {
    "scrolled": true
   },
   "outputs": [
    {
     "data": {
      "text/plain": [
       "[(tensor([[ 0,  1,  2,  3],\n",
       "          [10, 11, 12, 13],\n",
       "          [20, 21, 22, 23],\n",
       "          [30, 31, 32, 33]]),\n",
       "  tensor([[ 4,  5,  6,  7],\n",
       "          [14, 15, 16, 17],\n",
       "          [24, 25, 26, 27],\n",
       "          [34, 35, 36, 37]]),\n",
       "  tensor([[ 8,  9],\n",
       "          [18, 19],\n",
       "          [28, 29],\n",
       "          [38, 39]])),\n",
       " (tensor([[40, 41, 42, 43],\n",
       "          [50, 51, 52, 53],\n",
       "          [60, 61, 62, 63],\n",
       "          [70, 71, 72, 73]]),\n",
       "  tensor([[44, 45, 46, 47],\n",
       "          [54, 55, 56, 57],\n",
       "          [64, 65, 66, 67],\n",
       "          [74, 75, 76, 77]]),\n",
       "  tensor([[48, 49],\n",
       "          [58, 59],\n",
       "          [68, 69],\n",
       "          [78, 79]])),\n",
       " (tensor([[80, 81, 82, 83],\n",
       "          [90, 91, 92, 93]]),\n",
       "  tensor([[84, 85, 86, 87],\n",
       "          [94, 95, 96, 97]]),\n",
       "  tensor([[88, 89],\n",
       "          [98, 99]]))]"
      ]
     },
     "execution_count": 11,
     "metadata": {},
     "output_type": "execute_result"
    }
   ],
   "source": [
    "d = []\n",
    "for c in b:\n",
    "    d.append(torch.split(c, 4, dim=1)) \n",
    "d"
   ]
  },
  {
   "cell_type": "code",
   "execution_count": 14,
   "metadata": {},
   "outputs": [
    {
     "data": {
      "text/plain": [
       "32768"
      ]
     },
     "execution_count": 14,
     "metadata": {},
     "output_type": "execute_result"
    }
   ],
   "source": [
    "8192*4\n"
   ]
  },
  {
   "cell_type": "code",
   "execution_count": 34,
   "metadata": {},
   "outputs": [
    {
     "name": "stdout",
     "output_type": "stream",
     "text": [
      "14761\n"
     ]
    }
   ],
   "source": [
    "import time\n",
    "t1=time.time()\n",
    "a = 0\n",
    "while True:\n",
    "    x1_id_ = np.random.randint(1, 100)\n",
    "    y1_id_ = np.random.randint(1, 100)\n",
    "    a += 1\n",
    "    t2=time.time()\n",
    "    if t2 - t1 > 0.1:\n",
    "        break\n",
    "print(a)"
   ]
  },
  {
   "cell_type": "code",
   "execution_count": 37,
   "metadata": {
    "scrolled": true
   },
   "outputs": [
    {
     "data": {
      "text/plain": [
       "tensor([[ 0,  1,  2,  3,  4,  5,  6,  7,  8],\n",
       "        [ 9, 10, 11, 12, 13, 14, 15, 16, 17],\n",
       "        [18, 19, 20, 21, 22, 23, 24, 25, 26],\n",
       "        [27, 28, 29, 30, 31, 32, 33, 34, 35],\n",
       "        [36, 37, 38, 39, 40, 41, 42, 43, 44],\n",
       "        [45, 46, 47, 48, 49, 50, 51, 52, 53],\n",
       "        [54, 55, 56, 57, 58, 59, 60, 61, 62],\n",
       "        [63, 64, 65, 66, 67, 68, 69, 70, 71],\n",
       "        [72, 73, 74, 75, 76, 77, 78, 79, 80]])"
      ]
     },
     "execution_count": 37,
     "metadata": {},
     "output_type": "execute_result"
    },
    {
     "data": {
      "text/plain": [
       "tensor([ 0,  1,  2,  3,  4,  5,  6,  7,  8,  9, 10, 11, 12, 13, 14, 15, 16, 17,\n",
       "        18, 19, 20, 21, 22, 23, 24, 25, 26, 27, 28, 29, 30, 31, 32, 33, 34, 35,\n",
       "        36, 37, 38, 39, 40, 41, 42, 43, 44, 45, 46, 47, 48, 49, 50, 51, 52, 53,\n",
       "        54, 55, 56, 57, 58, 59, 60, 61, 62, 63, 64, 65, 66, 67, 68, 69, 70, 71,\n",
       "        72, 73, 74, 75, 76, 77, 78, 79, 80])"
      ]
     },
     "execution_count": 37,
     "metadata": {},
     "output_type": "execute_result"
    }
   ],
   "source": [
    "x = torch.arange(81).reshape(9,9)\n",
    "x1 = x.flatten()\n",
    "x\n",
    "x1"
   ]
  },
  {
   "cell_type": "code",
   "execution_count": 74,
   "metadata": {},
   "outputs": [
    {
     "data": {
      "text/plain": [
       "[[0, 1, 2, 9, 10, 11, 18, 19, 20],\n",
       " [3, 4, 5, 12, 13, 14, 21, 22, 23],\n",
       " [6, 7, 8, 15, 16, 17, 24, 25, 26],\n",
       " [27, 28, 29, 36, 37, 38, 45, 46, 47],\n",
       " [30, 31, 32, 39, 40, 41, 48, 49, 50],\n",
       " [33, 34, 35, 42, 43, 44, 51, 52, 53],\n",
       " [54, 55, 56, 63, 64, 65, 72, 73, 74],\n",
       " [57, 58, 59, 66, 67, 68, 75, 76, 77],\n",
       " [60, 61, 62, 69, 70, 71, 78, 79, 80]]"
      ]
     },
     "execution_count": 74,
     "metadata": {},
     "output_type": "execute_result"
    }
   ],
   "source": [
    "r = [[],[],[],[],[],[],[],[],[]]\n",
    "arr = torch.zeros((3,3,3))\n",
    "a = 0\n",
    "# for i in range(9):\n",
    "i = 0\n",
    "# for i in range(9):\n",
    "for j in range(3):\n",
    "    for k in range(3):\n",
    "        a = j*9*3 + k*3\n",
    "        for m in range(3):\n",
    "            for n in range(3):\n",
    "                r[i].append(x1[a+m*9+n].item())\n",
    "        i+=1\n",
    "#         b+=9\n",
    "    \n",
    "#     a += 9\n",
    "r"
   ]
  },
  {
   "cell_type": "code",
   "execution_count": 6,
   "metadata": {},
   "outputs": [
    {
     "data": {
      "text/plain": [
       "b''"
      ]
     },
     "execution_count": 6,
     "metadata": {},
     "output_type": "execute_result"
    },
    {
     "data": {
      "text/plain": [
       "True"
      ]
     },
     "execution_count": 6,
     "metadata": {},
     "output_type": "execute_result"
    }
   ],
   "source": [
    "a = b''\n",
    "a\n",
    "not a"
   ]
  },
  {
   "cell_type": "code",
   "execution_count": 4,
   "metadata": {
    "scrolled": true
   },
   "outputs": [
    {
     "data": {
      "text/plain": [
       "b'\\x00'"
      ]
     },
     "execution_count": 4,
     "metadata": {},
     "output_type": "execute_result"
    },
    {
     "data": {
      "text/plain": [
       "'\\x00'"
      ]
     },
     "execution_count": 4,
     "metadata": {},
     "output_type": "execute_result"
    }
   ],
   "source": [
    "a = b\"\\0\"\n",
    "a\n",
    "b = a.decode('utf-8')\n",
    "b"
   ]
  },
  {
   "cell_type": "code",
   "execution_count": 7,
   "metadata": {},
   "outputs": [
    {
     "data": {
      "text/plain": [
       "True"
      ]
     },
     "execution_count": 7,
     "metadata": {},
     "output_type": "execute_result"
    }
   ],
   "source": [
    "a = None\n",
    "a == None\n"
   ]
  },
  {
   "cell_type": "code",
   "execution_count": 2,
   "metadata": {},
   "outputs": [
    {
     "data": {
      "text/plain": [
       "['']"
      ]
     },
     "execution_count": 2,
     "metadata": {},
     "output_type": "execute_result"
    }
   ],
   "source": [
    "a = []\n",
    "b = \"\"\n",
    "a.append(b)\n",
    "a"
   ]
  },
  {
   "cell_type": "code",
   "execution_count": 5,
   "metadata": {
    "scrolled": true
   },
   "outputs": [
    {
     "data": {
      "text/plain": [
       "1"
      ]
     },
     "execution_count": 5,
     "metadata": {},
     "output_type": "execute_result"
    }
   ],
   "source": [
    "a={'a':1,'b':2}\n",
    "a[list(a.keys())[0]]"
   ]
  },
  {
   "cell_type": "code",
   "execution_count": 1,
   "metadata": {},
   "outputs": [
    {
     "data": {
      "text/plain": [
       "[1, 3, 4]"
      ]
     },
     "execution_count": 1,
     "metadata": {},
     "output_type": "execute_result"
    }
   ],
   "source": [
    "a = [1,2,3,4]\n",
    "a.pop(1)\n",
    "a"
   ]
  },
  {
   "cell_type": "code",
   "execution_count": 11,
   "metadata": {},
   "outputs": [
    {
     "data": {
      "text/plain": [
       "8192"
      ]
     },
     "execution_count": 11,
     "metadata": {},
     "output_type": "execute_result"
    },
    {
     "data": {
      "text/plain": [
       "1024.0"
      ]
     },
     "execution_count": 11,
     "metadata": {},
     "output_type": "execute_result"
    },
    {
     "data": {
      "text/plain": [
       "128.0"
      ]
     },
     "execution_count": 11,
     "metadata": {},
     "output_type": "execute_result"
    },
    {
     "data": {
      "text/plain": [
       "16.0"
      ]
     },
     "execution_count": 11,
     "metadata": {},
     "output_type": "execute_result"
    }
   ],
   "source": [
    "a= 16*32*16\n",
    "a\n",
    "a/8\n",
    "a/64\n",
    "a/64/8"
   ]
  },
  {
   "cell_type": "code",
   "execution_count": 3,
   "metadata": {
    "scrolled": true
   },
   "outputs": [
    {
     "data": {
      "text/plain": [
       "tensor([0, 1, 2, 3, 4, 5, 6, 7, 8, 9])"
      ]
     },
     "execution_count": 3,
     "metadata": {},
     "output_type": "execute_result"
    },
    {
     "data": {
      "text/plain": [
       "[0, 1, 2, 3, 4, 5, 6, 7, 8, 9]"
      ]
     },
     "execution_count": 3,
     "metadata": {},
     "output_type": "execute_result"
    },
    {
     "data": {
      "text/plain": [
       "2132333012928"
      ]
     },
     "execution_count": 3,
     "metadata": {},
     "output_type": "execute_result"
    }
   ],
   "source": [
    "a = torch.arange(10)\n",
    "b = a.tolist()\n",
    "a\n",
    "b\n",
    "a.data_ptr()"
   ]
  },
  {
   "cell_type": "code",
   "execution_count": 4,
   "metadata": {},
   "outputs": [
    {
     "ename": "NameError",
     "evalue": "name '__file__' is not defined",
     "output_type": "error",
     "traceback": [
      "\u001b[1;31m---------------------------------------------------------------------------\u001b[0m",
      "\u001b[1;31mNameError\u001b[0m                                 Traceback (most recent call last)",
      "\u001b[1;32m<ipython-input-4-a46bcac27c76>\u001b[0m in \u001b[0;36m<module>\u001b[1;34m\u001b[0m\n\u001b[1;32m----> 1\u001b[1;33m \u001b[0mthisfile\u001b[0m \u001b[1;33m=\u001b[0m \u001b[0m__file__\u001b[0m\u001b[1;33m\u001b[0m\u001b[1;33m\u001b[0m\u001b[0m\n\u001b[0m\u001b[0;32m      2\u001b[0m \u001b[0mthisfile\u001b[0m\u001b[1;33m\u001b[0m\u001b[1;33m\u001b[0m\u001b[0m\n",
      "\u001b[1;31mNameError\u001b[0m: name '__file__' is not defined"
     ]
    }
   ],
   "source": [
    "thisfile = __file__\n",
    "thisfile"
   ]
  },
  {
   "cell_type": "code",
   "execution_count": 14,
   "metadata": {
    "scrolled": true
   },
   "outputs": [
    {
     "data": {
      "text/plain": [
       "tensor([[[ 0,  1],\n",
       "         [ 2,  3],\n",
       "         [ 4,  5],\n",
       "         [ 6,  7]],\n",
       "\n",
       "        [[ 8,  9],\n",
       "         [10, 11],\n",
       "         [12, 13],\n",
       "         [14, 15]],\n",
       "\n",
       "        [[16, 17],\n",
       "         [18, 19],\n",
       "         [20, 21],\n",
       "         [22, 23]],\n",
       "\n",
       "        [[24, 25],\n",
       "         [26, 27],\n",
       "         [28, 29],\n",
       "         [30, 31]]])"
      ]
     },
     "execution_count": 14,
     "metadata": {},
     "output_type": "execute_result"
    },
    {
     "data": {
      "text/plain": [
       "tensor([[ 0,  1],\n",
       "        [ 2,  3],\n",
       "        [ 4,  5],\n",
       "        [ 6,  7],\n",
       "        [ 8,  9],\n",
       "        [10, 11],\n",
       "        [12, 13],\n",
       "        [14, 15],\n",
       "        [16, 17],\n",
       "        [18, 19],\n",
       "        [20, 21],\n",
       "        [22, 23],\n",
       "        [24, 25],\n",
       "        [26, 27],\n",
       "        [28, 29],\n",
       "        [30, 31]])"
      ]
     },
     "execution_count": 14,
     "metadata": {},
     "output_type": "execute_result"
    },
    {
     "data": {
      "text/plain": [
       "tensor([[ 0,  1,  2,  3,  4,  5,  6,  7],\n",
       "        [ 8,  9, 10, 11, 12, 13, 14, 15],\n",
       "        [16, 17, 18, 19, 20, 21, 22, 23],\n",
       "        [24, 25, 26, 27, 28, 29, 30, 31]])"
      ]
     },
     "execution_count": 14,
     "metadata": {},
     "output_type": "execute_result"
    }
   ],
   "source": [
    "a = torch.arange(32).reshape(4,4,2)\n",
    "a\n",
    "b = a.reshape(-1, 2)\n",
    "b\n",
    "c = a.reshape(4, -1)\n",
    "c"
   ]
  },
  {
   "cell_type": "code",
   "execution_count": 16,
   "metadata": {
    "scrolled": false
   },
   "outputs": [
    {
     "data": {
      "text/plain": [
       "tensor([[[[-4.9707e-02,  1.0355e+00],\n",
       "          [ 2.3917e-01,  1.6028e+00]],\n",
       "\n",
       "         [[-6.7934e-01,  2.2363e-04],\n",
       "          [-8.3247e-01, -7.2427e-01]],\n",
       "\n",
       "         [[-9.9529e-01,  2.3096e+00],\n",
       "          [ 1.5344e+00,  3.0854e-01]]],\n",
       "\n",
       "\n",
       "        [[[ 6.0439e-01,  5.9517e-01],\n",
       "          [ 1.6277e+00,  1.5170e+00]],\n",
       "\n",
       "         [[-4.1246e-01,  1.5434e-01],\n",
       "          [ 8.3077e-01, -6.3112e-01]],\n",
       "\n",
       "         [[ 8.3648e-01, -2.8602e-01],\n",
       "          [-1.0810e+00, -8.8826e-02]]]])"
      ]
     },
     "execution_count": 16,
     "metadata": {},
     "output_type": "execute_result"
    },
    {
     "data": {
      "text/plain": [
       "tensor([[[-0.0497,  2.3096],\n",
       "         [ 1.5344,  1.6028]],\n",
       "\n",
       "        [[ 0.8365,  0.5952],\n",
       "         [ 1.6277,  1.5170]]])"
      ]
     },
     "execution_count": 16,
     "metadata": {},
     "output_type": "execute_result"
    }
   ],
   "source": [
    "a = torch.randn(2,3,2,2)\n",
    "b = torch.max(a, dim=1)\n",
    "a\n",
    "b[0]"
   ]
  },
  {
   "cell_type": "code",
   "execution_count": 24,
   "metadata": {},
   "outputs": [
    {
     "data": {
      "text/plain": [
       "tensor([0, 1, 2, 3, 4, 5, 6, 7, 8, 9])"
      ]
     },
     "execution_count": 24,
     "metadata": {},
     "output_type": "execute_result"
    },
    {
     "data": {
      "text/plain": [
       "tensor([ True, False,  True, False,  True, False,  True, False,  True, False])"
      ]
     },
     "execution_count": 24,
     "metadata": {},
     "output_type": "execute_result"
    },
    {
     "data": {
      "text/plain": [
       "tensor([False, False, False, False, False, False,  True,  True,  True,  True])"
      ]
     },
     "execution_count": 24,
     "metadata": {},
     "output_type": "execute_result"
    },
    {
     "data": {
      "text/plain": [
       "tensor([False, False, False, False, False, False,  True, False,  True, False])"
      ]
     },
     "execution_count": 24,
     "metadata": {},
     "output_type": "execute_result"
    },
    {
     "data": {
      "text/plain": [
       "tensor([ True, False,  True, False,  True, False,  True,  True,  True,  True])"
      ]
     },
     "execution_count": 24,
     "metadata": {},
     "output_type": "execute_result"
    },
    {
     "ename": "RuntimeError",
     "evalue": "bool value of Tensor with more than one value is ambiguous",
     "output_type": "error",
     "traceback": [
      "\u001b[1;31m---------------------------------------------------------------------------\u001b[0m",
      "\u001b[1;31mRuntimeError\u001b[0m                              Traceback (most recent call last)",
      "\u001b[1;32m<ipython-input-24-e303dc0a5a15>\u001b[0m in \u001b[0;36m<module>\u001b[1;34m\u001b[0m\n\u001b[0;32m      7\u001b[0m \u001b[0mb\u001b[0m \u001b[1;33m*\u001b[0m \u001b[0mc\u001b[0m\u001b[1;33m\u001b[0m\u001b[1;33m\u001b[0m\u001b[0m\n\u001b[0;32m      8\u001b[0m \u001b[0mb\u001b[0m \u001b[1;33m+\u001b[0m \u001b[0mc\u001b[0m\u001b[1;33m\u001b[0m\u001b[1;33m\u001b[0m\u001b[0m\n\u001b[1;32m----> 9\u001b[1;33m \u001b[0mb\u001b[0m \u001b[1;32mand\u001b[0m \u001b[0mc\u001b[0m\u001b[1;33m\u001b[0m\u001b[1;33m\u001b[0m\u001b[0m\n\u001b[0m",
      "\u001b[1;31mRuntimeError\u001b[0m: bool value of Tensor with more than one value is ambiguous"
     ]
    }
   ],
   "source": [
    "a = torch.arange(10)\n",
    "a\n",
    "b = a%2==0\n",
    "b\n",
    "c= a>5\n",
    "c\n",
    "b * c\n",
    "b + c\n",
    "# b and c"
   ]
  },
  {
   "cell_type": "code",
   "execution_count": 6,
   "metadata": {},
   "outputs": [
    {
     "data": {
      "text/plain": [
       "tensor([[ 0.1111,  0.1111,  0.1111,  0.1111,  0.1111,  0.1111,  0.1111,  0.1111,\n",
       "          0.1111],\n",
       "        [ 0.1111,  0.1111,  0.1111,  0.1111,  0.1111,  0.1111,  0.1111,  0.1111,\n",
       "          0.1111],\n",
       "        [ 0.1111,  0.1111,  0.1111,  0.1111,  0.1111,  0.1111,  0.1111,  0.1111,\n",
       "          0.1111],\n",
       "        [ 0.1111,  0.1111,  0.1111, -0.8889, -0.8889, -0.8889,  0.1111,  0.1111,\n",
       "          0.1111],\n",
       "        [ 0.1111,  0.1111,  0.1111, -0.8889, -0.8889, -0.8889,  0.1111,  0.1111,\n",
       "          0.1111],\n",
       "        [ 0.1111,  0.1111,  0.1111, -0.8889, -0.8889, -0.8889,  0.1111,  0.1111,\n",
       "          0.1111],\n",
       "        [ 0.1111,  0.1111,  0.1111,  0.1111,  0.1111,  0.1111,  0.1111,  0.1111,\n",
       "          0.1111],\n",
       "        [ 0.1111,  0.1111,  0.1111,  0.1111,  0.1111,  0.1111,  0.1111,  0.1111,\n",
       "          0.1111],\n",
       "        [ 0.1111,  0.1111,  0.1111,  0.1111,  0.1111,  0.1111,  0.1111,  0.1111,\n",
       "          0.1111]])"
      ]
     },
     "execution_count": 6,
     "metadata": {},
     "output_type": "execute_result"
    },
    {
     "data": {
      "text/plain": [
       "tensor(1.4901e-08)"
      ]
     },
     "execution_count": 6,
     "metadata": {},
     "output_type": "execute_result"
    }
   ],
   "source": [
    "a = torch.ones(9, 9)/9\n",
    "a[3:-3,3:-3]=-8/9\n",
    "a\n",
    "torch.sum(a)"
   ]
  },
  {
   "cell_type": "code",
   "execution_count": 10,
   "metadata": {},
   "outputs": [
    {
     "data": {
      "text/plain": [
       "tensor([[ 0.3086,  0.3086,  0.3086,  0.3086,  0.3086,  0.3086,  0.3086,  0.3086,\n",
       "          0.3086],\n",
       "        [ 0.3086,  0.3086,  0.3086,  0.3086,  0.3086,  0.3086,  0.3086,  0.3086,\n",
       "          0.3086],\n",
       "        [ 0.3086,  0.3086, -0.6914, -0.6914, -0.6914, -0.6914, -0.6914,  0.3086,\n",
       "          0.3086],\n",
       "        [ 0.3086,  0.3086, -0.6914, -0.6914, -0.6914, -0.6914, -0.6914,  0.3086,\n",
       "          0.3086],\n",
       "        [ 0.3086,  0.3086, -0.6914, -0.6914, -0.6914, -0.6914, -0.6914,  0.3086,\n",
       "          0.3086],\n",
       "        [ 0.3086,  0.3086, -0.6914, -0.6914, -0.6914, -0.6914, -0.6914,  0.3086,\n",
       "          0.3086],\n",
       "        [ 0.3086,  0.3086, -0.6914, -0.6914, -0.6914, -0.6914, -0.6914,  0.3086,\n",
       "          0.3086],\n",
       "        [ 0.3086,  0.3086,  0.3086,  0.3086,  0.3086,  0.3086,  0.3086,  0.3086,\n",
       "          0.3086],\n",
       "        [ 0.3086,  0.3086,  0.3086,  0.3086,  0.3086,  0.3086,  0.3086,  0.3086,\n",
       "          0.3086]])"
      ]
     },
     "execution_count": 10,
     "metadata": {},
     "output_type": "execute_result"
    },
    {
     "data": {
      "text/plain": [
       "tensor(-1.1921e-06)"
      ]
     },
     "execution_count": 10,
     "metadata": {},
     "output_type": "execute_result"
    }
   ],
   "source": [
    "a = torch.ones(9, 9)/3.24\n",
    "a[2:-2,2:-2]=-2.24/3.24\n",
    "a\n",
    "torch.sum(a)"
   ]
  },
  {
   "cell_type": "code",
   "execution_count": 9,
   "metadata": {},
   "outputs": [
    {
     "data": {
      "text/plain": [
       "tensor([[ 0.3086,  0.3086,  0.3086,  0.3086,  0.3086,  0.3086,  0.3086,  0.3086,\n",
       "          0.3086],\n",
       "        [ 0.3086,  0.3086,  0.3086,  0.3086,  0.3086,  0.3086,  0.3086,  0.3086,\n",
       "          0.3086],\n",
       "        [ 0.3086,  0.3086, -0.6914, -0.6914, -0.6914, -0.6914, -0.6914,  0.3086,\n",
       "          0.3086],\n",
       "        [ 0.3086,  0.3086, -0.6914, -0.6914, -0.6914, -0.6914, -0.6914,  0.3086,\n",
       "          0.3086],\n",
       "        [ 0.3086,  0.3086, -0.6914, -0.6914, -0.6914, -0.6914, -0.6914,  0.3086,\n",
       "          0.3086],\n",
       "        [ 0.3086,  0.3086, -0.6914, -0.6914, -0.6914, -0.6914, -0.6914,  0.3086,\n",
       "          0.3086],\n",
       "        [ 0.3086,  0.3086, -0.6914, -0.6914, -0.6914, -0.6914, -0.6914,  0.3086,\n",
       "          0.3086],\n",
       "        [ 0.3086,  0.3086,  0.3086,  0.3086,  0.3086,  0.3086,  0.3086,  0.3086,\n",
       "          0.3086],\n",
       "        [ 0.3086,  0.3086,  0.3086,  0.3086,  0.3086,  0.3086,  0.3086,  0.3086,\n",
       "          0.3086]])"
      ]
     },
     "execution_count": 9,
     "metadata": {},
     "output_type": "execute_result"
    },
    {
     "data": {
      "text/plain": [
       "tensor(-1.1921e-06)"
      ]
     },
     "execution_count": 9,
     "metadata": {},
     "output_type": "execute_result"
    }
   ],
   "source": [
    "a = torch.ones(9, 9)*25/81\n",
    "a[2:-2,2:-2]=-56/81\n",
    "a\n",
    "torch.sum(a)"
   ]
  },
  {
   "cell_type": "code",
   "execution_count": 66,
   "metadata": {},
   "outputs": [
    {
     "data": {
      "text/plain": [
       "5"
      ]
     },
     "execution_count": 66,
     "metadata": {},
     "output_type": "execute_result"
    }
   ],
   "source": [
    "np.random.randint(10)"
   ]
  },
  {
   "cell_type": "code",
   "execution_count": 5,
   "metadata": {},
   "outputs": [
    {
     "data": {
      "text/plain": [
       "tensor([[ 0.2244,  0.2244,  0.2244,  0.2244,  0.2244,  0.2244,  0.2244,  0.2244,\n",
       "          0.2244,  0.2244,  0.2244,  0.2244,  0.2244,  0.2244,  0.2244,  0.2244,\n",
       "          0.2244,  0.2244,  0.2244],\n",
       "        [ 0.2244,  0.2244,  0.2244,  0.2244,  0.2244,  0.2244,  0.2244,  0.2244,\n",
       "          0.2244,  0.2244,  0.2244,  0.2244,  0.2244,  0.2244,  0.2244,  0.2244,\n",
       "          0.2244,  0.2244,  0.2244],\n",
       "        [ 0.2244,  0.2244,  0.2244,  0.2244,  0.2244,  0.2244,  0.2244,  0.2244,\n",
       "          0.2244,  0.2244,  0.2244,  0.2244,  0.2244,  0.2244,  0.2244,  0.2244,\n",
       "          0.2244,  0.2244,  0.2244],\n",
       "        [ 0.2244,  0.2244,  0.2244,  0.2244,  0.2244,  0.2244,  0.2244,  0.2244,\n",
       "          0.2244,  0.2244,  0.2244,  0.2244,  0.2244,  0.2244,  0.2244,  0.2244,\n",
       "          0.2244,  0.2244,  0.2244],\n",
       "        [ 0.2244,  0.2244,  0.2244,  0.2244,  0.2244,  0.2244,  0.2244,  0.2244,\n",
       "          0.2244,  0.2244,  0.2244,  0.2244,  0.2244,  0.2244,  0.2244,  0.2244,\n",
       "          0.2244,  0.2244,  0.2244],\n",
       "        [ 0.2244,  0.2244,  0.2244,  0.2244,  0.2244, -0.7756, -0.7756, -0.7756,\n",
       "         -0.7756, -0.7756, -0.7756, -0.7756, -0.7756, -0.7756,  0.2244,  0.2244,\n",
       "          0.2244,  0.2244,  0.2244],\n",
       "        [ 0.2244,  0.2244,  0.2244,  0.2244,  0.2244, -0.7756, -0.7756, -0.7756,\n",
       "         -0.7756, -0.7756, -0.7756, -0.7756, -0.7756, -0.7756,  0.2244,  0.2244,\n",
       "          0.2244,  0.2244,  0.2244],\n",
       "        [ 0.2244,  0.2244,  0.2244,  0.2244,  0.2244, -0.7756, -0.7756, -0.7756,\n",
       "         -0.7756, -0.7756, -0.7756, -0.7756, -0.7756, -0.7756,  0.2244,  0.2244,\n",
       "          0.2244,  0.2244,  0.2244],\n",
       "        [ 0.2244,  0.2244,  0.2244,  0.2244,  0.2244, -0.7756, -0.7756, -0.7756,\n",
       "         -0.7756, -0.7756, -0.7756, -0.7756, -0.7756, -0.7756,  0.2244,  0.2244,\n",
       "          0.2244,  0.2244,  0.2244],\n",
       "        [ 0.2244,  0.2244,  0.2244,  0.2244,  0.2244, -0.7756, -0.7756, -0.7756,\n",
       "         -0.7756, -0.7756, -0.7756, -0.7756, -0.7756, -0.7756,  0.2244,  0.2244,\n",
       "          0.2244,  0.2244,  0.2244],\n",
       "        [ 0.2244,  0.2244,  0.2244,  0.2244,  0.2244, -0.7756, -0.7756, -0.7756,\n",
       "         -0.7756, -0.7756, -0.7756, -0.7756, -0.7756, -0.7756,  0.2244,  0.2244,\n",
       "          0.2244,  0.2244,  0.2244],\n",
       "        [ 0.2244,  0.2244,  0.2244,  0.2244,  0.2244, -0.7756, -0.7756, -0.7756,\n",
       "         -0.7756, -0.7756, -0.7756, -0.7756, -0.7756, -0.7756,  0.2244,  0.2244,\n",
       "          0.2244,  0.2244,  0.2244],\n",
       "        [ 0.2244,  0.2244,  0.2244,  0.2244,  0.2244, -0.7756, -0.7756, -0.7756,\n",
       "         -0.7756, -0.7756, -0.7756, -0.7756, -0.7756, -0.7756,  0.2244,  0.2244,\n",
       "          0.2244,  0.2244,  0.2244],\n",
       "        [ 0.2244,  0.2244,  0.2244,  0.2244,  0.2244, -0.7756, -0.7756, -0.7756,\n",
       "         -0.7756, -0.7756, -0.7756, -0.7756, -0.7756, -0.7756,  0.2244,  0.2244,\n",
       "          0.2244,  0.2244,  0.2244],\n",
       "        [ 0.2244,  0.2244,  0.2244,  0.2244,  0.2244,  0.2244,  0.2244,  0.2244,\n",
       "          0.2244,  0.2244,  0.2244,  0.2244,  0.2244,  0.2244,  0.2244,  0.2244,\n",
       "          0.2244,  0.2244,  0.2244],\n",
       "        [ 0.2244,  0.2244,  0.2244,  0.2244,  0.2244,  0.2244,  0.2244,  0.2244,\n",
       "          0.2244,  0.2244,  0.2244,  0.2244,  0.2244,  0.2244,  0.2244,  0.2244,\n",
       "          0.2244,  0.2244,  0.2244],\n",
       "        [ 0.2244,  0.2244,  0.2244,  0.2244,  0.2244,  0.2244,  0.2244,  0.2244,\n",
       "          0.2244,  0.2244,  0.2244,  0.2244,  0.2244,  0.2244,  0.2244,  0.2244,\n",
       "          0.2244,  0.2244,  0.2244],\n",
       "        [ 0.2244,  0.2244,  0.2244,  0.2244,  0.2244,  0.2244,  0.2244,  0.2244,\n",
       "          0.2244,  0.2244,  0.2244,  0.2244,  0.2244,  0.2244,  0.2244,  0.2244,\n",
       "          0.2244,  0.2244,  0.2244],\n",
       "        [ 0.2244,  0.2244,  0.2244,  0.2244,  0.2244,  0.2244,  0.2244,  0.2244,\n",
       "          0.2244,  0.2244,  0.2244,  0.2244,  0.2244,  0.2244,  0.2244,  0.2244,\n",
       "          0.2244,  0.2244,  0.2244]])"
      ]
     },
     "execution_count": 5,
     "metadata": {},
     "output_type": "execute_result"
    },
    {
     "data": {
      "text/plain": [
       "tensor(5.3644e-07)"
      ]
     },
     "execution_count": 5,
     "metadata": {},
     "output_type": "execute_result"
    }
   ],
   "source": [
    "a = torch.ones(19, 19)*81/361\n",
    "a[5:-5,5:-5]=-280/361\n",
    "torch.sum(a)"
   ]
  },
  {
   "cell_type": "code",
   "execution_count": 14,
   "metadata": {},
   "outputs": [
    {
     "name": "stdout",
     "output_type": "stream",
     "text": [
      "361 121 240\n"
     ]
    },
    {
     "data": {
      "text/plain": [
       "tensor(-4.0531e-06)"
      ]
     },
     "execution_count": 14,
     "metadata": {},
     "output_type": "execute_result"
    }
   ],
   "source": [
    "def gen_harrkernel(size=19, edge=5):\n",
    "    fullarea = size**2\n",
    "    roiarea = (size-edge*2)**2\n",
    "    edgearea = fullarea - roiarea\n",
    "    print(fullarea,roiarea,edgearea)\n",
    "    arr = torch.ones(size, size)*roiarea/fullarea\n",
    "    arr[edge:-edge,edge:-edge]=-edgearea/fullarea\n",
    "    return arr\n",
    "arr1 = gen_harrkernel(19,4)\n",
    "# arr1\n",
    "torch.sum(arr1)"
   ]
  },
  {
   "cell_type": "code",
   "execution_count": 21,
   "metadata": {},
   "outputs": [
    {
     "name": "stdout",
     "output_type": "stream",
     "text": [
      "361 99 262\n"
     ]
    },
    {
     "data": {
      "text/plain": [
       "tensor([[ 0.2742,  0.2742,  0.2742,  0.2742,  0.2742,  0.2742,  0.2742,  0.2742,\n",
       "          0.2742,  0.2742,  0.2742,  0.2742,  0.2742,  0.2742,  0.2742,  0.2742,\n",
       "          0.2742,  0.2742,  0.2742],\n",
       "        [ 0.2742,  0.2742,  0.2742,  0.2742,  0.2742,  0.2742,  0.2742,  0.2742,\n",
       "          0.2742,  0.2742,  0.2742,  0.2742,  0.2742,  0.2742,  0.2742,  0.2742,\n",
       "          0.2742,  0.2742,  0.2742],\n",
       "        [ 0.2742,  0.2742,  0.2742,  0.2742,  0.2742,  0.2742,  0.2742,  0.2742,\n",
       "          0.2742,  0.2742,  0.2742,  0.2742,  0.2742,  0.2742,  0.2742,  0.2742,\n",
       "          0.2742,  0.2742,  0.2742],\n",
       "        [ 0.2742,  0.2742,  0.2742,  0.2742,  0.2742,  0.2742,  0.2742,  0.2742,\n",
       "          0.2742,  0.2742,  0.2742,  0.2742,  0.2742,  0.2742,  0.2742,  0.2742,\n",
       "          0.2742,  0.2742,  0.2742],\n",
       "        [ 0.2742,  0.2742,  0.2742,  0.2742,  0.2742, -0.7258, -0.7258, -0.7258,\n",
       "         -0.7258, -0.7258, -0.7258, -0.7258, -0.7258, -0.7258,  0.2742,  0.2742,\n",
       "          0.2742,  0.2742,  0.2742],\n",
       "        [ 0.2742,  0.2742,  0.2742,  0.2742,  0.2742, -0.7258, -0.7258, -0.7258,\n",
       "         -0.7258, -0.7258, -0.7258, -0.7258, -0.7258, -0.7258,  0.2742,  0.2742,\n",
       "          0.2742,  0.2742,  0.2742],\n",
       "        [ 0.2742,  0.2742,  0.2742,  0.2742,  0.2742, -0.7258, -0.7258, -0.7258,\n",
       "         -0.7258, -0.7258, -0.7258, -0.7258, -0.7258, -0.7258,  0.2742,  0.2742,\n",
       "          0.2742,  0.2742,  0.2742],\n",
       "        [ 0.2742,  0.2742,  0.2742,  0.2742,  0.2742, -0.7258, -0.7258, -0.7258,\n",
       "         -0.7258, -0.7258, -0.7258, -0.7258, -0.7258, -0.7258,  0.2742,  0.2742,\n",
       "          0.2742,  0.2742,  0.2742],\n",
       "        [ 0.2742,  0.2742,  0.2742,  0.2742,  0.2742, -0.7258, -0.7258, -0.7258,\n",
       "         -0.7258, -0.7258, -0.7258, -0.7258, -0.7258, -0.7258,  0.2742,  0.2742,\n",
       "          0.2742,  0.2742,  0.2742],\n",
       "        [ 0.2742,  0.2742,  0.2742,  0.2742,  0.2742, -0.7258, -0.7258, -0.7258,\n",
       "         -0.7258, -0.7258, -0.7258, -0.7258, -0.7258, -0.7258,  0.2742,  0.2742,\n",
       "          0.2742,  0.2742,  0.2742],\n",
       "        [ 0.2742,  0.2742,  0.2742,  0.2742,  0.2742, -0.7258, -0.7258, -0.7258,\n",
       "         -0.7258, -0.7258, -0.7258, -0.7258, -0.7258, -0.7258,  0.2742,  0.2742,\n",
       "          0.2742,  0.2742,  0.2742],\n",
       "        [ 0.2742,  0.2742,  0.2742,  0.2742,  0.2742, -0.7258, -0.7258, -0.7258,\n",
       "         -0.7258, -0.7258, -0.7258, -0.7258, -0.7258, -0.7258,  0.2742,  0.2742,\n",
       "          0.2742,  0.2742,  0.2742],\n",
       "        [ 0.2742,  0.2742,  0.2742,  0.2742,  0.2742, -0.7258, -0.7258, -0.7258,\n",
       "         -0.7258, -0.7258, -0.7258, -0.7258, -0.7258, -0.7258,  0.2742,  0.2742,\n",
       "          0.2742,  0.2742,  0.2742],\n",
       "        [ 0.2742,  0.2742,  0.2742,  0.2742,  0.2742, -0.7258, -0.7258, -0.7258,\n",
       "         -0.7258, -0.7258, -0.7258, -0.7258, -0.7258, -0.7258,  0.2742,  0.2742,\n",
       "          0.2742,  0.2742,  0.2742],\n",
       "        [ 0.2742,  0.2742,  0.2742,  0.2742,  0.2742, -0.7258, -0.7258, -0.7258,\n",
       "         -0.7258, -0.7258, -0.7258, -0.7258, -0.7258, -0.7258,  0.2742,  0.2742,\n",
       "          0.2742,  0.2742,  0.2742],\n",
       "        [ 0.2742,  0.2742,  0.2742,  0.2742,  0.2742,  0.2742,  0.2742,  0.2742,\n",
       "          0.2742,  0.2742,  0.2742,  0.2742,  0.2742,  0.2742,  0.2742,  0.2742,\n",
       "          0.2742,  0.2742,  0.2742],\n",
       "        [ 0.2742,  0.2742,  0.2742,  0.2742,  0.2742,  0.2742,  0.2742,  0.2742,\n",
       "          0.2742,  0.2742,  0.2742,  0.2742,  0.2742,  0.2742,  0.2742,  0.2742,\n",
       "          0.2742,  0.2742,  0.2742],\n",
       "        [ 0.2742,  0.2742,  0.2742,  0.2742,  0.2742,  0.2742,  0.2742,  0.2742,\n",
       "          0.2742,  0.2742,  0.2742,  0.2742,  0.2742,  0.2742,  0.2742,  0.2742,\n",
       "          0.2742,  0.2742,  0.2742],\n",
       "        [ 0.2742,  0.2742,  0.2742,  0.2742,  0.2742,  0.2742,  0.2742,  0.2742,\n",
       "          0.2742,  0.2742,  0.2742,  0.2742,  0.2742,  0.2742,  0.2742,  0.2742,\n",
       "          0.2742,  0.2742,  0.2742]])"
      ]
     },
     "execution_count": 21,
     "metadata": {},
     "output_type": "execute_result"
    },
    {
     "data": {
      "text/plain": [
       "tensor(4.7684e-07)"
      ]
     },
     "execution_count": 21,
     "metadata": {},
     "output_type": "execute_result"
    }
   ],
   "source": [
    "def gen_harrkernel(size=9, height=3, width=3):\n",
    "    assert size>height and size>width and (size-height)%2==0 and (size-width)%2==0\n",
    "    fullarea = size**2\n",
    "    roiarea = height*width\n",
    "    edgearea = fullarea - roiarea\n",
    "    print(fullarea,roiarea,edgearea)\n",
    "    hedge = (size-height)//2\n",
    "    wedge = (size-width)//2\n",
    "    \n",
    "    arr = torch.ones(size, size)*roiarea/fullarea\n",
    "    arr[hedge:-hedge,wedge:-wedge]=-edgearea/fullarea\n",
    "    return arr\n",
    "arr1 = gen_harrkernel(19, 11, 9)\n",
    "arr1\n",
    "torch.sum(arr1)"
   ]
  },
  {
   "cell_type": "code",
   "execution_count": 22,
   "metadata": {},
   "outputs": [
    {
     "name": "stdout",
     "output_type": "stream",
     "text": [
      "361 99 262\n"
     ]
    },
    {
     "data": {
      "text/plain": [
       "tensor([[ 0.2742,  0.2742,  0.2742,  0.2742,  0.2742,  0.2742,  0.2742,  0.2742,\n",
       "          0.2742,  0.2742,  0.2742,  0.2742,  0.2742,  0.2742,  0.2742,  0.2742,\n",
       "          0.2742,  0.2742,  0.2742],\n",
       "        [ 0.2742,  0.2742,  0.2742,  0.2742,  0.2742,  0.2742,  0.2742,  0.2742,\n",
       "          0.2742,  0.2742,  0.2742,  0.2742,  0.2742,  0.2742,  0.2742,  0.2742,\n",
       "          0.2742,  0.2742,  0.2742],\n",
       "        [ 0.2742,  0.2742,  0.2742,  0.2742,  0.2742,  0.2742,  0.2742,  0.2742,\n",
       "          0.2742,  0.2742,  0.2742,  0.2742,  0.2742,  0.2742,  0.2742,  0.2742,\n",
       "          0.2742,  0.2742,  0.2742],\n",
       "        [ 0.2742,  0.2742,  0.2742,  0.2742,  0.2742,  0.2742,  0.2742,  0.2742,\n",
       "          0.2742,  0.2742,  0.2742,  0.2742,  0.2742,  0.2742,  0.2742,  0.2742,\n",
       "          0.2742,  0.2742,  0.2742],\n",
       "        [ 0.2742,  0.2742,  0.2742,  0.2742,  0.2742, -0.7258, -0.7258, -0.7258,\n",
       "         -0.7258, -0.7258, -0.7258, -0.7258, -0.7258, -0.7258,  0.2742,  0.2742,\n",
       "          0.2742,  0.2742,  0.2742],\n",
       "        [ 0.2742,  0.2742,  0.2742,  0.2742,  0.2742, -0.7258, -0.7258, -0.7258,\n",
       "         -0.7258, -0.7258, -0.7258, -0.7258, -0.7258, -0.7258,  0.2742,  0.2742,\n",
       "          0.2742,  0.2742,  0.2742],\n",
       "        [ 0.2742,  0.2742,  0.2742,  0.2742,  0.2742, -0.7258, -0.7258, -0.7258,\n",
       "         -0.7258, -0.7258, -0.7258, -0.7258, -0.7258, -0.7258,  0.2742,  0.2742,\n",
       "          0.2742,  0.2742,  0.2742],\n",
       "        [ 0.2742,  0.2742,  0.2742,  0.2742,  0.2742, -0.7258, -0.7258, -0.7258,\n",
       "         -0.7258, -0.7258, -0.7258, -0.7258, -0.7258, -0.7258,  0.2742,  0.2742,\n",
       "          0.2742,  0.2742,  0.2742],\n",
       "        [ 0.2742,  0.2742,  0.2742,  0.2742,  0.2742, -0.7258, -0.7258, -0.7258,\n",
       "         -0.7258, -0.7258, -0.7258, -0.7258, -0.7258, -0.7258,  0.2742,  0.2742,\n",
       "          0.2742,  0.2742,  0.2742],\n",
       "        [ 0.2742,  0.2742,  0.2742,  0.2742,  0.2742, -0.7258, -0.7258, -0.7258,\n",
       "         -0.7258, -0.7258, -0.7258, -0.7258, -0.7258, -0.7258,  0.2742,  0.2742,\n",
       "          0.2742,  0.2742,  0.2742],\n",
       "        [ 0.2742,  0.2742,  0.2742,  0.2742,  0.2742, -0.7258, -0.7258, -0.7258,\n",
       "         -0.7258, -0.7258, -0.7258, -0.7258, -0.7258, -0.7258,  0.2742,  0.2742,\n",
       "          0.2742,  0.2742,  0.2742],\n",
       "        [ 0.2742,  0.2742,  0.2742,  0.2742,  0.2742, -0.7258, -0.7258, -0.7258,\n",
       "         -0.7258, -0.7258, -0.7258, -0.7258, -0.7258, -0.7258,  0.2742,  0.2742,\n",
       "          0.2742,  0.2742,  0.2742],\n",
       "        [ 0.2742,  0.2742,  0.2742,  0.2742,  0.2742, -0.7258, -0.7258, -0.7258,\n",
       "         -0.7258, -0.7258, -0.7258, -0.7258, -0.7258, -0.7258,  0.2742,  0.2742,\n",
       "          0.2742,  0.2742,  0.2742],\n",
       "        [ 0.2742,  0.2742,  0.2742,  0.2742,  0.2742, -0.7258, -0.7258, -0.7258,\n",
       "         -0.7258, -0.7258, -0.7258, -0.7258, -0.7258, -0.7258,  0.2742,  0.2742,\n",
       "          0.2742,  0.2742,  0.2742],\n",
       "        [ 0.2742,  0.2742,  0.2742,  0.2742,  0.2742, -0.7258, -0.7258, -0.7258,\n",
       "         -0.7258, -0.7258, -0.7258, -0.7258, -0.7258, -0.7258,  0.2742,  0.2742,\n",
       "          0.2742,  0.2742,  0.2742],\n",
       "        [ 0.2742,  0.2742,  0.2742,  0.2742,  0.2742,  0.2742,  0.2742,  0.2742,\n",
       "          0.2742,  0.2742,  0.2742,  0.2742,  0.2742,  0.2742,  0.2742,  0.2742,\n",
       "          0.2742,  0.2742,  0.2742],\n",
       "        [ 0.2742,  0.2742,  0.2742,  0.2742,  0.2742,  0.2742,  0.2742,  0.2742,\n",
       "          0.2742,  0.2742,  0.2742,  0.2742,  0.2742,  0.2742,  0.2742,  0.2742,\n",
       "          0.2742,  0.2742,  0.2742],\n",
       "        [ 0.2742,  0.2742,  0.2742,  0.2742,  0.2742,  0.2742,  0.2742,  0.2742,\n",
       "          0.2742,  0.2742,  0.2742,  0.2742,  0.2742,  0.2742,  0.2742,  0.2742,\n",
       "          0.2742,  0.2742,  0.2742],\n",
       "        [ 0.2742,  0.2742,  0.2742,  0.2742,  0.2742,  0.2742,  0.2742,  0.2742,\n",
       "          0.2742,  0.2742,  0.2742,  0.2742,  0.2742,  0.2742,  0.2742,  0.2742,\n",
       "          0.2742,  0.2742,  0.2742]])"
      ]
     },
     "execution_count": 22,
     "metadata": {},
     "output_type": "execute_result"
    },
    {
     "data": {
      "text/plain": [
       "tensor(4.7684e-07)"
      ]
     },
     "execution_count": 22,
     "metadata": {},
     "output_type": "execute_result"
    }
   ],
   "source": [
    "def gen_harrkernel(size=9, heightedge=3, widthedge=3):\n",
    "    assert size>heightedge*2 and size>widthedge*2\n",
    "    fullarea = size**2\n",
    "    height = size - heightedge*2\n",
    "    width = size - widthedge*2\n",
    "    roiarea = height*width\n",
    "    edgearea = fullarea - roiarea\n",
    "    print(fullarea,roiarea,edgearea)\n",
    "    hedge = (size-height)//2\n",
    "    wedge = (size-width)//2\n",
    "    \n",
    "    arr = torch.ones(size, size)*roiarea/fullarea\n",
    "    arr[hedge:-hedge,wedge:-wedge]=-edgearea/fullarea\n",
    "    return arr\n",
    "arr1 = gen_harrkernel(19, 4, 5)\n",
    "arr1\n",
    "torch.sum(arr1)"
   ]
  },
  {
   "cell_type": "code",
   "execution_count": 68,
   "metadata": {
    "scrolled": true
   },
   "outputs": [
    {
     "data": {
      "text/plain": [
       "1"
      ]
     },
     "execution_count": 68,
     "metadata": {},
     "output_type": "execute_result"
    },
    {
     "data": {
      "text/plain": [
       "0"
      ]
     },
     "execution_count": 68,
     "metadata": {},
     "output_type": "execute_result"
    }
   ],
   "source": [
    "int(True)\n",
    "int(False)"
   ]
  },
  {
   "cell_type": "code",
   "execution_count": 31,
   "metadata": {},
   "outputs": [
    {
     "data": {
      "text/plain": [
       "'0abc'"
      ]
     },
     "execution_count": 31,
     "metadata": {},
     "output_type": "execute_result"
    },
    {
     "data": {
      "text/plain": [
       "'0'"
      ]
     },
     "execution_count": 31,
     "metadata": {},
     "output_type": "execute_result"
    },
    {
     "data": {
      "text/plain": [
       "['a', 'b', '2']"
      ]
     },
     "execution_count": 31,
     "metadata": {},
     "output_type": "execute_result"
    },
    {
     "data": {
      "text/plain": [
       "['0abc', '1bcd', '2gdf']"
      ]
     },
     "execution_count": 31,
     "metadata": {},
     "output_type": "execute_result"
    },
    {
     "ename": "TypeError",
     "evalue": "list indices must be integers or slices, not tuple",
     "output_type": "error",
     "traceback": [
      "\u001b[1;31m---------------------------------------------------------------------------\u001b[0m",
      "\u001b[1;31mTypeError\u001b[0m                                 Traceback (most recent call last)",
      "\u001b[1;32m<ipython-input-31-85683daa1281>\u001b[0m in \u001b[0;36m<module>\u001b[1;34m\u001b[0m\n\u001b[0;32m      6\u001b[0m \u001b[1;33m[\u001b[0m\u001b[0mx\u001b[0m\u001b[1;33m[\u001b[0m\u001b[0mx\u001b[0m\u001b[1;33m[\u001b[0m\u001b[1;36m0\u001b[0m\u001b[1;33m]\u001b[0m \u001b[1;32min\u001b[0m \u001b[0mb\u001b[0m\u001b[1;33m]\u001b[0m \u001b[1;32mfor\u001b[0m \u001b[0mx\u001b[0m \u001b[1;32min\u001b[0m  \u001b[0ma\u001b[0m\u001b[1;33m]\u001b[0m\u001b[1;33m\u001b[0m\u001b[1;33m\u001b[0m\u001b[0m\n\u001b[0;32m      7\u001b[0m \u001b[1;33m[\u001b[0m\u001b[0mx\u001b[0m \u001b[1;32mfor\u001b[0m \u001b[0mx\u001b[0m \u001b[1;32min\u001b[0m  \u001b[0ma\u001b[0m\u001b[1;33m]\u001b[0m\u001b[1;33m\u001b[0m\u001b[1;33m\u001b[0m\u001b[0m\n\u001b[1;32m----> 8\u001b[1;33m \u001b[0ma\u001b[0m\u001b[1;33m[\u001b[0m\u001b[1;32mTrue\u001b[0m\u001b[1;33m,\u001b[0m \u001b[1;32mFalse\u001b[0m\u001b[1;33m,\u001b[0m \u001b[1;32mTrue\u001b[0m\u001b[1;33m]\u001b[0m\u001b[1;33m\u001b[0m\u001b[1;33m\u001b[0m\u001b[0m\n\u001b[0m",
      "\u001b[1;31mTypeError\u001b[0m: list indices must be integers or slices, not tuple"
     ]
    }
   ],
   "source": [
    "a = [\"0abc\",\"1bcd\",\"2gdf\"]\n",
    "b = [\"0\",\"1\"]\n",
    "# a[a[:][0]==\"1\"]\n",
    "a[0]\n",
    "a[0][0]\n",
    "[x[x[0] in b] for x in  a]\n",
    "[x for x in  a]\n",
    "# a[True, False, True]"
   ]
  },
  {
   "cell_type": "code",
   "execution_count": 49,
   "metadata": {},
   "outputs": [
    {
     "data": {
      "text/plain": [
       "array(['0', '1', '2', '0', '1'], dtype='<U1')"
      ]
     },
     "execution_count": 49,
     "metadata": {},
     "output_type": "execute_result"
    },
    {
     "data": {
      "text/plain": [
       "array(['0abc', '0dffd'], dtype='<U5')"
      ]
     },
     "execution_count": 49,
     "metadata": {},
     "output_type": "execute_result"
    },
    {
     "data": {
      "text/plain": [
       "array(['1bcd', '1fef'], dtype='<U5')"
      ]
     },
     "execution_count": 49,
     "metadata": {},
     "output_type": "execute_result"
    }
   ],
   "source": [
    "a = [\"0abc\",\"1bcd\",\"2gdf3\",\"0dffd\",\"1fef\"]\n",
    "a = np.array(a)\n",
    "b = [\"0\",\"1\"]\n",
    "a1 = a.astype(\"<U1\")\n",
    "a1\n",
    "for b1 in b:\n",
    "    a[a1==b1]\n",
    "# a[:][0]\n",
    "# a[a[:,0]in b]\n",
    "# a[a[:][0]==\"1\"]\n",
    "# a[0]\n",
    "# a[0][0]\n",
    "# [x[x[0] in b] for x in  a]\n",
    "# [x for x in  a]\n",
    "# a[True, False, True]"
   ]
  },
  {
   "cell_type": "code",
   "execution_count": 51,
   "metadata": {},
   "outputs": [
    {
     "data": {
      "text/plain": [
       "'3abc,'"
      ]
     },
     "execution_count": 51,
     "metadata": {},
     "output_type": "execute_result"
    },
    {
     "data": {
      "text/plain": [
       "'3'"
      ]
     },
     "execution_count": 51,
     "metadata": {},
     "output_type": "execute_result"
    },
    {
     "data": {
      "text/plain": [
       "False"
      ]
     },
     "execution_count": 51,
     "metadata": {},
     "output_type": "execute_result"
    },
    {
     "data": {
      "text/plain": [
       "['3abc', '']"
      ]
     },
     "execution_count": 51,
     "metadata": {},
     "output_type": "execute_result"
    }
   ],
   "source": [
    "a = \"3abc,\"\n",
    "b = [\"0\",\"1\",\"2\"]\n",
    "a\n",
    "a[0]\n",
    "a[0] in b\n",
    "a.split(\",\")"
   ]
  },
  {
   "cell_type": "code",
   "execution_count": 53,
   "metadata": {},
   "outputs": [
    {
     "data": {
      "text/plain": [
       "['1']"
      ]
     },
     "execution_count": 53,
     "metadata": {},
     "output_type": "execute_result"
    }
   ],
   "source": [
    "a = \"1,\"\n",
    "b = [x for x in a.split(\",\") if x!=\"\"]\n",
    "b"
   ]
  },
  {
   "cell_type": "markdown",
   "metadata": {},
   "source": [
    "## harr"
   ]
  },
  {
   "cell_type": "code",
   "execution_count": 3,
   "metadata": {},
   "outputs": [],
   "source": [
    "savedir = \"./save\"\n",
    "os.mkdir(savedir)"
   ]
  },
  {
   "cell_type": "code",
   "execution_count": 61,
   "metadata": {},
   "outputs": [
    {
     "data": {
      "text/plain": [
       "<Figure size 432x288 with 0 Axes>"
      ]
     },
     "execution_count": 61,
     "metadata": {},
     "output_type": "execute_result"
    },
    {
     "data": {
      "text/plain": [
       "<matplotlib.image.AxesImage at 0x19ac47ebc08>"
      ]
     },
     "execution_count": 61,
     "metadata": {},
     "output_type": "execute_result"
    },
    {
     "data": {
      "image/png": "[encoded data removed]",
      "text/plain": [
       "<Figure size 432x288 with 1 Axes>"
      ]
     },
     "metadata": {
      "needs_background": "light"
     },
     "output_type": "display_data"
    }
   ],
   "source": [
    "img = np.random.randint(0,255,(10,10),dtype=np.uint8)\n",
    "# cv2.imshow(\"img\", img)\n",
    "# cv2.waitKey(0)\n",
    "plt.figure(\"img\")"
   ]
  },
  {
   "cell_type": "code",
   "execution_count": 7,
   "metadata": {
    "scrolled": true
   },
   "outputs": [
    {
     "name": "stdout",
     "output_type": "stream",
     "text": [
      "361 81 280\n"
     ]
    },
    {
     "data": {
      "image/png": "[encoded data removed]",
      "text/plain": [
       "<Figure size 432x288 with 1 Axes>"
      ]
     },
     "metadata": {
      "needs_background": "light"
     },
     "output_type": "display_data"
    }
   ],
   "source": [
    "def show_harrkernel(arr):\n",
    "#     arr[arr<0] = 0\n",
    "#     arr[arr>0] = 1\n",
    "#     arr = arr*200\n",
    "#     arr = arr.astype(\"u8\")\n",
    "#     print(arr.shape)\n",
    "    size = arr.shape[0]\n",
    "    plt.figure(\"arr\")\n",
    "    plt.xlim([0,size-1])\n",
    "    plt.ylim([0,size-1])\n",
    "    plt.xticks(range(1,size))\n",
    "    plt.yticks(range(1,size))\n",
    "#     savepath = os.path.join(savedir, \"k1.jpg\")\n",
    "#     plt.savefig(savepath)\n",
    "    plt.imshow(arr)\n",
    "    plt.show()\n",
    "arr = gen_harrkernel(19,5,5)\n",
    "show_harrkernel(arr)"
   ]
  },
  {
   "cell_type": "code",
   "execution_count": 52,
   "metadata": {},
   "outputs": [],
   "source": [
    "np.set_printoptions(threshold=10000)\n",
    "def saveimg(arr, name):\n",
    "#     img = arr\n",
    "    img = cv2.resize(arr, (99,99))\n",
    "    img[img>0]=50\n",
    "    img[img<0]=100\n",
    "    img[img==0]=255\n",
    "    img = img.astype(np.uint8)\n",
    "    savepath = os.path.join(savedir, name)\n",
    "#     print(img)\n",
    "    cv2.imwrite(savepath, img)\n",
    "    "
   ]
  },
  {
   "cell_type": "code",
   "execution_count": 72,
   "metadata": {
    "scrolled": true
   },
   "outputs": [
    {
     "name": "stdout",
     "output_type": "stream",
     "text": [
      "361 169 192\n"
     ]
    },
    {
     "data": {
      "image/png": "[encoded data removed]",
      "text/plain": [
       "<Figure size 432x288 with 1 Axes>"
      ]
     },
     "metadata": {
      "needs_background": "light"
     },
     "output_type": "display_data"
    },
    {
     "name": "stdout",
     "output_type": "stream",
     "text": [
      "9801 1521 8280\n"
     ]
    }
   ],
   "source": [
    "def gen_harrkernel(size=9, heightedge=3, widthedge=3):\n",
    "    assert size>heightedge*2 and size>widthedge*2\n",
    "    fullarea = size**2\n",
    "    height = size - heightedge*2\n",
    "    width = size - widthedge*2\n",
    "    roiarea = height*width\n",
    "    edgearea = fullarea - roiarea\n",
    "    print(fullarea,roiarea,edgearea)\n",
    "    hedge = (size-height)//2\n",
    "    wedge = (size-width)//2\n",
    "    \n",
    "    arr = np.ones((size, size))*roiarea/fullarea\n",
    "    arr[hedge:-hedge,wedge:-wedge]=-edgearea/fullarea\n",
    "    return arr\n",
    "arr = gen_harrkernel(19,3,3)\n",
    "# arr\n",
    "show_harrkernel(arr)\n",
    "saveimg(gen_harrkernel(99,30,30), \"harrkernel.jpg\")\n"
   ]
  },
  {
   "cell_type": "code",
   "execution_count": 70,
   "metadata": {
    "scrolled": true
   },
   "outputs": [
    {
     "data": {
      "image/png": "[encoded data removed]",
      "text/plain": [
       "<Figure size 432x288 with 1 Axes>"
      ]
     },
     "metadata": {
      "needs_background": "light"
     },
     "output_type": "display_data"
    }
   ],
   "source": [
    "def gen_harrkernel(size=9, hedge=3, wedge=3):\n",
    "    assert size>hedge*2 and size>wedge*2\n",
    "    pt1 = (wedge, hedge)\n",
    "    pt2 = (size-1-wedge, size-1-hedge)\n",
    "    arr = -np.ones((size, size),dtype=np.float)\n",
    "    arr = cv2.rectangle(arr, pt1, pt2, (1,), -1)\n",
    "#     fullarea = size**2\n",
    "#     height = size - heightedge*2\n",
    "#     width = size - widthedge*2\n",
    "#     roiarea = height*width\n",
    "#     edgearea = fullarea - roiarea\n",
    "#     print(fullarea,roiarea,edgearea)\n",
    "#     hedge = (size-height)//2\n",
    "#     wedge = (size-width)//2\n",
    "    \n",
    "#     arr = np.ones((size, size))*roiarea/fullarea\n",
    "#     arr[hedge:-hedge,wedge:-wedge]=-edgearea/fullarea\n",
    "    if size>15:\n",
    "        arr = cv2.resize(arr, (size, size), (0,0), cv2.INTER_LINEAR)\n",
    "    arr = cv2.resize(arr, (99, 99))\n",
    "    posroi = arr >0\n",
    "    negroi = arr <= 0\n",
    "    arr[posroi] = 1\n",
    "    arr[negroi] = -1\n",
    "#     print(posroi)\n",
    "#     print(negroi)\n",
    "    posarea = np.sum(posroi)\n",
    "    negarea = np.sum(negroi)\n",
    "#     print(posarea, negarea)\n",
    "    arr[posroi] /= posarea\n",
    "    arr[negroi] /= negarea\n",
    "    return arr\n",
    "arr = gen_harrkernel(9,3,3)\n",
    "# arr\n",
    "show_harrkernel(arr)\n",
    "saveimg(arr, \"harrkernel.jpg\")\n"
   ]
  },
  {
   "cell_type": "code",
   "execution_count": 71,
   "metadata": {
    "scrolled": false
   },
   "outputs": [
    {
     "name": "stdout",
     "output_type": "stream",
     "text": [
      "0.0\n"
     ]
    },
    {
     "data": {
      "image/png": "[encoded data removed]",
      "text/plain": [
       "<Figure size 432x288 with 1 Axes>"
      ]
     },
     "metadata": {
      "needs_background": "light"
     },
     "output_type": "display_data"
    },
    {
     "name": "stdout",
     "output_type": "stream",
     "text": [
      "3.075410040512899e-19\n"
     ]
    },
    {
     "data": {
      "image/png": "[encoded data removed]",
      "text/plain": [
       "<Figure size 432x288 with 1 Axes>"
      ]
     },
     "metadata": {
      "needs_background": "light"
     },
     "output_type": "display_data"
    },
    {
     "name": "stdout",
     "output_type": "stream",
     "text": [
      "0.0\n",
      "0.0\n",
      "3.075410040512899e-19\n"
     ]
    }
   ],
   "source": [
    "def get_harr1(size, flag=1):\n",
    "    assert size%2==1\n",
    "    edge = size//2\n",
    "    area = size*edge\n",
    "    value = 1/area\n",
    "    arr = np.zeros((size, size))\n",
    "    if flag:\n",
    "        arr[0:edge,:] = value\n",
    "        arr[-edge:,:] = -value\n",
    "    else:\n",
    "        arr[:,0:edge] = value\n",
    "        arr[:,-edge:] = -value\n",
    "    print(np.mean(arr))\n",
    "    return arr\n",
    "\n",
    "show_harrkernel(get_harr1(19,0))\n",
    "show_harrkernel(get_harr1(19,1))\n",
    "arr = get_harr1(9,0)\n",
    "# arr\n",
    "saveimg(get_harr1(19,0), \"harr1-1.jpg\")\n",
    "saveimg(get_harr1(19,1), \"harr1-2.jpg\")\n",
    "# arr\n",
    "    "
   ]
  },
  {
   "cell_type": "code",
   "execution_count": 73,
   "metadata": {
    "scrolled": false
   },
   "outputs": [
    {
     "name": "stdout",
     "output_type": "stream",
     "text": [
      "4.613115060769349e-19\n"
     ]
    },
    {
     "data": {
      "image/png": "[encoded data removed]",
      "text/plain": [
       "<Figure size 432x288 with 1 Axes>"
      ]
     },
     "metadata": {
      "needs_background": "light"
     },
     "output_type": "display_data"
    },
    {
     "name": "stdout",
     "output_type": "stream",
     "text": [
      "0.0\n"
     ]
    },
    {
     "data": {
      "image/png": "[encoded data removed]",
      "text/plain": [
       "<Figure size 432x288 with 1 Axes>"
      ]
     },
     "metadata": {
      "needs_background": "light"
     },
     "output_type": "display_data"
    },
    {
     "name": "stdout",
     "output_type": "stream",
     "text": [
      "4.613115060769349e-19\n",
      "0.0\n"
     ]
    }
   ],
   "source": [
    "def get_harr2(size, edge, flag=1):\n",
    "    assert size%2==1 and edge<size/2\n",
    "#     edge = size//2\n",
    "    edgearea = size*edge*2\n",
    "    centerarea = size*(size-edge*2)\n",
    "#     print(edgearea, centerarea, size*size)\n",
    "#     value = 1/area\n",
    "    arr = np.ones((size, size))/edgearea\n",
    "    if flag:\n",
    "        arr[edge:-edge,:] = -1/centerarea\n",
    "    else:\n",
    "        arr[:,edge:-edge] = -1/centerarea\n",
    "    print(np.mean(arr))\n",
    "    return arr\n",
    "\n",
    "show_harrkernel(get_harr2(19,4,1))\n",
    "show_harrkernel(get_harr2(19,6,0))\n",
    "saveimg(get_harr2(19,4,1), \"harr2-1.jpg\")\n",
    "saveimg(get_harr2(19,6,0), \"harr2-2.jpg\")\n",
    "        \n",
    "    "
   ]
  },
  {
   "cell_type": "code",
   "execution_count": 80,
   "metadata": {},
   "outputs": [
    {
     "name": "stdout",
     "output_type": "stream",
     "text": [
      "99 169\n",
      "70 291 361\n",
      "-4.132582241939208e-19\n"
     ]
    },
    {
     "data": {
      "image/png": "[encoded data removed]",
      "text/plain": [
       "<Figure size 432x288 with 1 Axes>"
      ]
     },
     "metadata": {
      "needs_background": "light"
     },
     "output_type": "display_data"
    },
    {
     "name": "stdout",
     "output_type": "stream",
     "text": [
      "551 2109\n",
      "1558 8243 9801\n",
      "0.0\n"
     ]
    }
   ],
   "source": [
    "np.set_printoptions(precision=2)\n",
    "def get_harr3(size, outhedge, outwedge, inhedge, inwedge):\n",
    "    assert min(size, outhedge, outwedge, inhedge, inwedge)>0\n",
    "    assert size%2==1 and max(inhedge, inwedge)<size/2 and inhedge>outhedge and inwedge>outwedge\n",
    "#     edge = size//2\n",
    "    inhsize = size - 2*inhedge\n",
    "    inwsize = size - 2*inwedge\n",
    "    outhsize = size - 2*outhedge\n",
    "    outwsize = size - 2*outwedge\n",
    "    inarea = inhsize*inwsize\n",
    "    outarea = outhsize*outwsize\n",
    "    fullarea = size*size\n",
    "    posarea = outarea - inarea\n",
    "    negarea = fullarea - posarea\n",
    "    print(inarea, outarea)\n",
    "    print(posarea, negarea, size*size)\n",
    "#     value = 1/area\n",
    "    arr = -np.ones((size, size))/negarea\n",
    "    arr[outhedge:-outhedge, outwedge:-outwedge] = 1/posarea\n",
    "    arr[inhedge:-inhedge, inwedge:-inwedge] = -1/negarea\n",
    "#     if flag:\n",
    "#         arr[edge:-edge,:] = 1/centerarea\n",
    "#     else:\n",
    "#         arr[:,edge:-edge] = 1/centerarea\n",
    "    print(np.mean(arr))\n",
    "    return arr\n",
    "arr1 = get_harr3(19,3,3,4,5)\n",
    "# print(arr1)\n",
    "# arr1\n",
    "show_harrkernel(arr1)\n",
    "# show_harrkernel(get_harr3(19,6,0))\n",
    "saveimg(get_harr3(99,21,31,35,40), \"harr3.jpg\")       \n",
    "        \n",
    "    "
   ]
  },
  {
   "cell_type": "code",
   "execution_count": 81,
   "metadata": {},
   "outputs": [
    {
     "name": "stdout",
     "output_type": "stream",
     "text": [
      "301 60\n",
      "(2, 1) (2, 5) (8, 1) (8, 5)\n",
      "3.075410040512899e-19\n"
     ]
    },
    {
     "data": {
      "image/png": "[encoded data removed]",
      "text/plain": [
       "<Figure size 432x288 with 1 Axes>"
      ]
     },
     "metadata": {
      "needs_background": "light"
     },
     "output_type": "display_data"
    },
    {
     "name": "stdout",
     "output_type": "stream",
     "text": [
      "5901 3900\n",
      "(21, 35) (21, 40) (31, 35) (31, 40)\n",
      "2.5487213604801573e-20\n"
     ]
    }
   ],
   "source": [
    "np.set_printoptions(precision=3)\n",
    "def get_harr4(size, huedge, hledge, wuedge, wledge): # h: height, w:weight, u:upper, l:lower\n",
    "    assert min(size, huedge, hledge, wuedge, wledge)>0\n",
    "    assert size%2==1 and max(huedge, hledge, wuedge, wledge)<size/2 \n",
    "    leftuparea = huedge*wuedge\n",
    "    leftlowarea = hledge*wuedge\n",
    "    rightuparea = huedge*wledge\n",
    "    rightlowarea = hledge*wledge\n",
    "    fullarea = size*size\n",
    "    negarea = leftlowarea + leftuparea + rightlowarea + rightuparea\n",
    "    posarea = fullarea - negarea\n",
    "    print(posarea,negarea)\n",
    "#     print(edgearea, centerarea, size*size)\n",
    "#     value = 1/area\n",
    "    arr = np.ones((size, size))/posarea\n",
    "    arr[0:huedge, 0:wuedge] = -1/negarea\n",
    "    arr[0:huedge, -wledge:] = -1/negarea\n",
    "    arr[-hledge:, 0:wuedge] = -1/negarea\n",
    "    arr[-hledge:, -wledge:] = -1/negarea\n",
    "    arr1 = arr[0:huedge, 0:wuedge]\n",
    "    arr2 = arr[0:huedge, -wledge:]\n",
    "    arr3 = arr[-hledge:, 0:wuedge]\n",
    "    arr4 = arr[-hledge:, -wledge:]\n",
    "#     print(arr1.shape,arr2.shape)\n",
    "    print(arr1.shape, arr2.shape, arr3.shape, arr4.shape)\n",
    "#     print(arr)\n",
    "    print(np.mean(arr))\n",
    "    return arr\n",
    "arr1 = get_harr4(19,2,8,1,5)\n",
    "# print(arr1)\n",
    "# arr1\n",
    "show_harrkernel(arr1)\n",
    "# show_harrkernel(get_harr3(19,6,0))\n",
    "saveimg(get_harr4(99,21,31,35,40), \"harr4.jpg\")         \n",
    "        \n",
    "    "
   ]
  },
  {
   "cell_type": "code",
   "execution_count": 82,
   "metadata": {
    "scrolled": false
   },
   "outputs": [
    {
     "name": "stdout",
     "output_type": "stream",
     "text": [
      "188 173\n",
      "0.0\n"
     ]
    },
    {
     "data": {
      "image/png": "[encoded data removed]",
      "text/plain": [
       "<Figure size 432x288 with 1 Axes>"
      ]
     },
     "metadata": {
      "needs_background": "light"
     },
     "output_type": "display_data"
    },
    {
     "name": "stdout",
     "output_type": "stream",
     "text": [
      "4149 5652\n",
      "1.6991475736534382e-20\n"
     ]
    }
   ],
   "source": [
    "np.set_printoptions(precision=3)\n",
    "def get_harr5(size, huedge, hledge, wuedge, wledge, thresh = 0.9): # h: height, w:weight, u:upper, l:lower\n",
    "    assert min(size, huedge, hledge, wuedge, wledge)>0\n",
    "    assert size%2==1 and max(huedge, hledge, wuedge, wledge)<size/2 \n",
    "    leftuparea = huedge*wuedge\n",
    "    leftlowarea = hledge*wuedge\n",
    "    rightuparea = huedge*wledge\n",
    "    rightlowarea = hledge*wledge\n",
    "    fullarea = size*size\n",
    "    negarea = leftlowarea + leftuparea + rightlowarea + rightuparea\n",
    "    posarea = fullarea - negarea\n",
    "#     print(edgearea, centerarea, size*size)\n",
    "#     value = 1/area\n",
    "#     arr = np.ones((size, size))/posarea\n",
    "#     arr[0:huedge, 0:wuedge] = -1/negarea\n",
    "#     arr[0:huedge, -wledge:] = -1/negarea\n",
    "#     arr[-hledge:, 0:wuedge] = -1/negarea\n",
    "#     arr[-hledge:, -wledge:] = -1/negarea\n",
    "    arr = np.ones((size, size))\n",
    "    arr[0:huedge, 0:wuedge] = -1\n",
    "    arr[0:huedge, -wledge:] = -1\n",
    "    arr[-hledge:, 0:wuedge] = -1\n",
    "    arr[-hledge:, -wledge:] = -1\n",
    "    cx = size//2\n",
    "    cy = cx\n",
    "#     cv2.rotate(arr, (cx, cy),45)\n",
    "    angle = 45\n",
    "    scale = 1\n",
    "    A = cv2.getRotationMatrix2D(center=(cx, cy), angle=angle, scale=scale)\n",
    "    arr = cv2.warpAffine(arr, A, (size, size), borderValue=0)\n",
    "    \n",
    "#     print(arr)\n",
    "    \n",
    "    \n",
    "    sumneg = np.sum(arr<thresh)\n",
    "    sumpos = np.sum(arr>=thresh)\n",
    "    print(sumneg, sumpos)\n",
    "    arr[arr<thresh] = -1/sumneg\n",
    "    arr[arr>=thresh] = 1/sumpos\n",
    "    print(np.mean(arr))\n",
    "    return arr\n",
    "a = 7\n",
    "arr1 = get_harr5(19,a,3,a,a,0.95)\n",
    "# print(arr1)\n",
    "# arr1\n",
    "show_harrkernel(arr1)\n",
    "# show_harrkernel(get_harr3(19,6,0))buf.mtype = TypeA;\n",
    "saveimg(get_harr5(99,21,31,35,40,0.95), \"harr5.jpg\")   \n",
    "        \n",
    "        \n",
    "    "
   ]
  },
  {
   "cell_type": "code",
   "execution_count": null,
   "metadata": {},
   "outputs": [],
   "source": []
  },
  {
   "cell_type": "code",
   "execution_count": 86,
   "metadata": {},
   "outputs": [
    {
     "name": "stdout",
     "output_type": "stream",
     "text": [
      "81 9 72\n",
      "0.0\n",
      "81 9 72\n",
      "0.0\n",
      "81 9 72\n",
      "0.0\n",
      "81 9 72\n",
      "0.0\n",
      "81 9 72\n",
      "1.3183898417423734e-16\n"
     ]
    },
    {
     "data": {
      "image/png": "[encoded data removed]",
      "text/plain": [
       "<Figure size 432x288 with 1 Axes>"
      ]
     },
     "metadata": {
      "needs_background": "light"
     },
     "output_type": "display_data"
    },
    {
     "data": {
      "image/png": "[encoded data removed]",
      "text/plain": [
       "<Figure size 432x288 with 1 Axes>"
      ]
     },
     "metadata": {
      "needs_background": "light"
     },
     "output_type": "display_data"
    },
    {
     "data": {
      "image/png": "[encoded data removed]",
      "text/plain": [
       "<Figure size 432x288 with 1 Axes>"
      ]
     },
     "metadata": {
      "needs_background": "light"
     },
     "output_type": "display_data"
    },
    {
     "data": {
      "image/png": "[encoded data removed]",
      "text/plain": [
       "<Figure size 432x288 with 1 Axes>"
      ]
     },
     "metadata": {
      "needs_background": "light"
     },
     "output_type": "display_data"
    },
    {
     "data": {
      "image/png": "[encoded data removed]",
      "text/plain": [
       "<Figure size 432x288 with 1 Axes>"
      ]
     },
     "metadata": {
      "needs_background": "light"
     },
     "output_type": "display_data"
    },
    {
     "name": "stdout",
     "output_type": "stream",
     "text": [
      "9801 2109 7692\n",
      "-2.220446049250313e-16\n",
      "9801 2109 7692\n",
      "-1.6653345369377348e-16\n",
      "9801 2109 7692\n",
      "-2.220446049250313e-16\n",
      "9801 2109 7692\n",
      "-1.1102230246251565e-16\n",
      "9801 2109 7692\n",
      "-5.551115123125783e-17\n"
     ]
    }
   ],
   "source": [
    "np.set_printoptions(precision=3)\n",
    "def gen_harr6(size=9, hedge=3, wedge=3, flag=0):\n",
    "    assert size>hedge*2 and size>wedge*2\n",
    "    fullarea = size**2\n",
    "    height = size - hedge*2\n",
    "    width = size - wedge*2\n",
    "    roiarea = height*width\n",
    "    edgearea = fullarea - roiarea\n",
    "    print(fullarea,roiarea,edgearea)\n",
    "    hedge = (size-height)//2\n",
    "    wedge = (size-width)//2\n",
    "    \n",
    "    arr = np.ones((size, size))\n",
    "    arr[hedge:-hedge,wedge:-wedge]=-1\n",
    "    if flag == 1:\n",
    "        arr = arr[:-hedge, :-wedge]\n",
    "    elif flag == 2:\n",
    "        arr = arr[:-hedge, wedge:]\n",
    "    elif flag == 3:\n",
    "        arr = arr[hedge:, :-wedge]\n",
    "    elif flag == 4:\n",
    "        arr = arr[hedge:, wedge:]\n",
    "    posroi = arr >0\n",
    "    negroi = arr <= 0\n",
    "    posarea = np.sum(posroi)\n",
    "    negarea = np.sum(negroi)\n",
    "    arr[posroi] /= posarea\n",
    "    arr[negroi] /= negarea\n",
    "    print(np.sum(arr))\n",
    "#     print(arr)\n",
    "    return arr\n",
    "\n",
    "arr1 = gen_harr6(9,3,3, flag=1)\n",
    "arr2 = gen_harr6(9,3,3, flag=2)\n",
    "arr3 = gen_harr6(9,3,3, flag=3)\n",
    "arr4 = gen_harr6(9,3,3, flag=4)\n",
    "arr5 = gen_harr6(9,3,3, flag=5)\n",
    "# arr2 = gen_harrkernel(9,3,3, flag=0)\n",
    "# print(arr1)\n",
    "# arr1\n",
    "show_harrkernel(arr1)\n",
    "show_harrkernel(arr2)\n",
    "show_harrkernel(arr3)\n",
    "show_harrkernel(arr4)\n",
    "show_harrkernel(arr5)\n",
    "# show_harrkernel(get_harr3(19,6,0))buf.mtype = TypeA;\n",
    "saveimg(gen_harr6(99,21,31,1), \"harr6-1.jpg\")\n",
    "saveimg(gen_harr6(99,21,31,2), \"harr6-2.jpg\")  \n",
    "saveimg(gen_harr6(99,21,31,3), \"harr6-3.jpg\")  \n",
    "saveimg(gen_harr6(99,21,31,4), \"harr6-4.jpg\") \n",
    "saveimg(gen_harr6(99,21,31,5), \"harr6-5.jpg\")  \n",
    "        \n",
    "    "
   ]
  },
  {
   "cell_type": "code",
   "execution_count": 3,
   "metadata": {
    "scrolled": false
   },
   "outputs": [],
   "source": [
    "def show_harrkernel(arr):\n",
    "#     arr[arr<0] = 0\n",
    "#     arr[arr>0] = 1\n",
    "#     arr = arr*200\n",
    "#     arr = arr.astype(\"u8\")\n",
    "#     print(arr.shape)\n",
    "    size = arr.shape[0]\n",
    "    plt.figure(\"arr\")\n",
    "    plt.xlim([0,size-1])\n",
    "    plt.ylim([0,size-1])\n",
    "    plt.xticks(range(1,size))\n",
    "    plt.yticks(range(1,size))\n",
    "    plt.imshow(arr)\n",
    "    plt.show()\n",
    "# arr1 = gen_harr6(9,3,3, flag=1)\n",
    "# arr1\n",
    "# show_harrkernel(arr1)"
   ]
  },
  {
   "cell_type": "code",
   "execution_count": 88,
   "metadata": {
    "scrolled": false
   },
   "outputs": [
    {
     "name": "stdout",
     "output_type": "stream",
     "text": [
      "-6.938893903907228e-17\n",
      "8.326672684688674e-17\n"
     ]
    },
    {
     "data": {
      "image/png": "[encoded data removed]",
      "text/plain": [
       "<Figure size 432x288 with 1 Axes>"
      ]
     },
     "metadata": {
      "needs_background": "light"
     },
     "output_type": "display_data"
    },
    {
     "data": {
      "image/png": "[encoded data removed]",
      "text/plain": [
       "<Figure size 432x288 with 1 Axes>"
      ]
     },
     "metadata": {
      "needs_background": "light"
     },
     "output_type": "display_data"
    },
    {
     "name": "stdout",
     "output_type": "stream",
     "text": [
      "1.3877787807814457e-16\n",
      "-6.938893903907228e-17\n",
      "8.326672684688674e-17\n"
     ]
    }
   ],
   "source": [
    "np.set_printoptions(precision=3)\n",
    "def gen_harr7(size=9, r=3):\n",
    "    assert size>2*r and r>0\n",
    "#     fullarea = size**2\n",
    "    cx = size//2\n",
    "    cy = cx\n",
    "    arr = -np.ones((size, size),dtype=np.float)\n",
    "    cv2.circle(arr, (cx,cy), r, (1,), -1)\n",
    "#     print(arr)\n",
    "    posroi = arr >0\n",
    "    negroi = arr <= 0\n",
    "#     print(posroi)\n",
    "#     print(negroi)\n",
    "    posarea = np.sum(posroi)\n",
    "    negarea = np.sum(negroi)\n",
    "#     print(posarea, negarea)\n",
    "    arr[posroi] /= posarea\n",
    "    arr[negroi] /= negarea\n",
    "    print(np.sum(arr))\n",
    "#     print(arr)\n",
    "    return arr\n",
    "arr1 = gen_harr7(9,3)\n",
    "arr2 = gen_harr7(19, 6)\n",
    "\n",
    "show_harrkernel(arr1)\n",
    "show_harrkernel(arr2)\n",
    "saveimg(gen_harr7(99,30), \"harr7-1.jpg\") \n",
    "saveimg(gen_harr7(9,3), \"harr7-2.jpg\") \n",
    "saveimg(gen_harr7(19,6), \"harr7-3.jpg\")\n",
    "        "
   ]
  },
  {
   "cell_type": "code",
   "execution_count": 72,
   "metadata": {
    "scrolled": false
   },
   "outputs": [
    {
     "name": "stdout",
     "output_type": "stream",
     "text": [
      "c_:2\n",
      "1.3877787807814457e-17\n",
      "c_:3\n",
      "5.377642775528102e-17\n",
      "c_:3\n",
      "1.1796119636642288e-16\n",
      "c_:4\n",
      "9.71445146547012e-17\n",
      "c_:5\n",
      "1.1102230246251565e-16\n",
      "c_:5\n",
      "-2.7755575615628914e-17\n",
      "c_:6\n",
      "-2.7755575615628914e-17\n"
     ]
    },
    {
     "data": {
      "image/png": "[encoded data removed]",
      "text/plain": [
       "<Figure size 432x288 with 1 Axes>"
      ]
     },
     "metadata": {
      "needs_background": "light"
     },
     "output_type": "display_data"
    },
    {
     "data": {
      "image/png": "[encoded data removed]",
      "text/plain": [
       "<Figure size 432x288 with 1 Axes>"
      ]
     },
     "metadata": {
      "needs_background": "light"
     },
     "output_type": "display_data"
    },
    {
     "data": {
      "image/png": "[encoded data removed]",
      "text/plain": [
       "<Figure size 432x288 with 1 Axes>"
      ]
     },
     "metadata": {
      "needs_background": "light"
     },
     "output_type": "display_data"
    },
    {
     "data": {
      "image/png": "[encoded data removed]",
      "text/plain": [
       "<Figure size 432x288 with 1 Axes>"
      ]
     },
     "metadata": {
      "needs_background": "light"
     },
     "output_type": "display_data"
    },
    {
     "data": {
      "image/png": "[encoded data removed]",
      "text/plain": [
       "<Figure size 432x288 with 1 Axes>"
      ]
     },
     "metadata": {
      "needs_background": "light"
     },
     "output_type": "display_data"
    },
    {
     "data": {
      "image/png": "[encoded data removed]",
      "text/plain": [
       "<Figure size 432x288 with 1 Axes>"
      ]
     },
     "metadata": {
      "needs_background": "light"
     },
     "output_type": "display_data"
    },
    {
     "data": {
      "image/png": "[encoded data removed]",
      "text/plain": [
       "<Figure size 432x288 with 1 Axes>"
      ]
     },
     "metadata": {
      "needs_background": "light"
     },
     "output_type": "display_data"
    }
   ],
   "source": [
    "np.set_printoptions(precision=3)\n",
    "def gen_harr8(size=9, r=3, key=19,ratio=0.3):\n",
    "    assert size>2*r and r>0\n",
    "#     fullarea = size**2\n",
    "    cx = size//2\n",
    "    cy = cx\n",
    "    c_ = int(size*ratio)\n",
    "    print(f\"c_:{c_}\")\n",
    "    arr = -np.ones((size, size),dtype=np.float)\n",
    "    cv2.circle(arr, (cx,cy), r, (1,), -1)\n",
    "    subcxy_dict = {1:(c_, cy), 2:(cx, c_,), 3:(size-c_, cy), 4:(cx, size-c_)}\n",
    "    center_ = subcxy_dict[key]\n",
    "    cv2.circle(arr, center_, c_, (-1,), -1)\n",
    "#     print(arr)\n",
    "    posroi = arr >0\n",
    "    negroi = arr <= 0\n",
    "\n",
    "    posarea = np.sum(posroi)\n",
    "    negarea = np.sum(negroi)\n",
    "#     print(posarea, negarea)\n",
    "    arr[posroi] /= posarea\n",
    "    arr[negroi] /= negarea\n",
    "    print(np.sum(arr))\n",
    "#     print(arr)\n",
    "    return arr\n",
    "ratio = 0.3\n",
    "ratio2 = 0.4\n",
    "ratio3 = 0.27\n",
    "arr1 = gen_harr8(9, 3, 1,ratio)\n",
    "arr2 = gen_harr8(11, 4,1,ratio)\n",
    "arr3 = gen_harr8(13, 4,1,ratio)\n",
    "arr4 = gen_harr8(15, 5,1,ratio)\n",
    "arr5 = gen_harr8(17, 6,1,ratio)\n",
    "arr6 = gen_harr8(19, 6,1,ratio)\n",
    "arr7 = gen_harr8(21, 7,1,ratio)\n",
    "\n",
    "show_harrkernel(arr1)\n",
    "show_harrkernel(arr2)\n",
    "show_harrkernel(arr3)\n",
    "show_harrkernel(arr4)\n",
    "show_harrkernel(arr5)\n",
    "show_harrkernel(arr6)\n",
    "show_harrkernel(arr7)\n",
    "\n",
    "\n",
    "        "
   ]
  },
  {
   "cell_type": "code",
   "execution_count": 80,
   "metadata": {
    "scrolled": false
   },
   "outputs": [
    {
     "name": "stdout",
     "output_type": "stream",
     "text": [
      "-6.938893903907228e-18\n",
      "-4.163336342344337e-17\n",
      "0.0\n",
      "1.9168694409543718e-16\n",
      "1.1102230246251565e-16\n",
      "1.1102230246251565e-16\n",
      "-8.326672684688674e-17\n"
     ]
    },
    {
     "data": {
      "image/png": "[encoded data removed]",
      "text/plain": [
       "<Figure size 432x288 with 1 Axes>"
      ]
     },
     "metadata": {
      "needs_background": "light"
     },
     "output_type": "display_data"
    },
    {
     "data": {
      "image/png": "[encoded data removed]",
      "text/plain": [
       "<Figure size 432x288 with 1 Axes>"
      ]
     },
     "metadata": {
      "needs_background": "light"
     },
     "output_type": "display_data"
    },
    {
     "data": {
      "image/png": "[encoded data removed]",
      "text/plain": [
       "<Figure size 432x288 with 1 Axes>"
      ]
     },
     "metadata": {
      "needs_background": "light"
     },
     "output_type": "display_data"
    },
    {
     "data": {
      "image/png": "[encoded data removed]",
      "text/plain": [
       "<Figure size 432x288 with 1 Axes>"
      ]
     },
     "metadata": {
      "needs_background": "light"
     },
     "output_type": "display_data"
    },
    {
     "data": {
      "image/png": "[encoded data removed]",
      "text/plain": [
       "<Figure size 432x288 with 1 Axes>"
      ]
     },
     "metadata": {
      "needs_background": "light"
     },
     "output_type": "display_data"
    },
    {
     "data": {
      "image/png": "[encoded data removed]",
      "text/plain": [
       "<Figure size 432x288 with 1 Axes>"
      ]
     },
     "metadata": {
      "needs_background": "light"
     },
     "output_type": "display_data"
    },
    {
     "data": {
      "image/png": "[encoded data removed]",
      "text/plain": [
       "<Figure size 432x288 with 1 Axes>"
      ]
     },
     "metadata": {
      "needs_background": "light"
     },
     "output_type": "display_data"
    }
   ],
   "source": [
    "np.set_printoptions(precision=3)\n",
    "def gen_harr9(size=9, r=3, r2=2):\n",
    "    assert size>2*r and r2>0 and r>r2\n",
    "#     fullarea = size**2\n",
    "    cx = size//2\n",
    "    cy = cx\n",
    "    arr = -np.ones((size, size),dtype=np.float)\n",
    "    cv2.circle(arr, (cx,cy), r, (1,), -1)\n",
    "    cv2.circle(arr, (cx,cy), r2, (-1,), -1)\n",
    "#     print(arr)\n",
    "    posroi = arr >0\n",
    "    negroi = arr <= 0\n",
    "#     print(posroi)\n",
    "#     print(negroi)\n",
    "    posarea = np.sum(posroi)\n",
    "    negarea = np.sum(negroi)\n",
    "#     print(posarea, negarea)\n",
    "    arr[posroi] /= posarea\n",
    "    arr[negroi] /= negarea\n",
    "    print(np.sum(arr))\n",
    "#     print(arr)\n",
    "    return arr\n",
    "\n",
    "arr1 = gen_harr9(9, 3, 1)\n",
    "arr2 = gen_harr9(11, 4, 2)\n",
    "arr3 = gen_harr9(13, 4, 2)\n",
    "arr4 = gen_harr9(15, 5, 3)\n",
    "arr5 = gen_harr9(17, 5, 3)\n",
    "arr6 = gen_harr9(19, 6, 4)\n",
    "arr7 = gen_harr9(21, 7, 4)\n",
    "\n",
    "show_harrkernel(arr1)\n",
    "show_harrkernel(arr2)\n",
    "show_harrkernel(arr3)\n",
    "show_harrkernel(arr4)\n",
    "show_harrkernel(arr5)\n",
    "show_harrkernel(arr6)\n",
    "show_harrkernel(arr7)\n",
    "        "
   ]
  },
  {
   "cell_type": "code",
   "execution_count": 102,
   "metadata": {
    "scrolled": false
   },
   "outputs": [
    {
     "name": "stdout",
     "output_type": "stream",
     "text": [
      "1.0755285551056204e-16\n",
      "1.0755285551056204e-16\n",
      "1.0755285551056204e-16\n",
      "1.0755285551056204e-16\n",
      "1.0755285551056204e-16\n",
      "1.0755285551056204e-16\n",
      "1.0755285551056204e-16\n"
     ]
    },
    {
     "data": {
      "image/png": "[encoded data removed]",
      "text/plain": [
       "<Figure size 432x288 with 1 Axes>"
      ]
     },
     "metadata": {
      "needs_background": "light"
     },
     "output_type": "display_data"
    },
    {
     "data": {
      "image/png": "[encoded data removed]",
      "text/plain": [
       "<Figure size 432x288 with 1 Axes>"
      ]
     },
     "metadata": {
      "needs_background": "light"
     },
     "output_type": "display_data"
    },
    {
     "data": {
      "image/png": "[encoded data removed]",
      "text/plain": [
       "<Figure size 432x288 with 1 Axes>"
      ]
     },
     "metadata": {
      "needs_background": "light"
     },
     "output_type": "display_data"
    },
    {
     "data": {
      "image/png": "[encoded data removed]",
      "text/plain": [
       "<Figure size 432x288 with 1 Axes>"
      ]
     },
     "metadata": {
      "needs_background": "light"
     },
     "output_type": "display_data"
    },
    {
     "data": {
      "image/png": "[encoded data removed]",
      "text/plain": [
       "<Figure size 432x288 with 1 Axes>"
      ]
     },
     "metadata": {
      "needs_background": "light"
     },
     "output_type": "display_data"
    },
    {
     "data": {
      "image/png": "[encoded data removed]",
      "text/plain": [
       "<Figure size 432x288 with 1 Axes>"
      ]
     },
     "metadata": {
      "needs_background": "light"
     },
     "output_type": "display_data"
    },
    {
     "data": {
      "image/png": "[encoded data removed]",
      "text/plain": [
       "<Figure size 432x288 with 1 Axes>"
      ]
     },
     "metadata": {
      "needs_background": "light"
     },
     "output_type": "display_data"
    }
   ],
   "source": [
    "np.set_printoptions(precision=3)\n",
    "def gen_harr9(size=9):\n",
    "#     assert size>2 \n",
    "    size_ = 9\n",
    "    r = 2\n",
    "#     if size>15:\n",
    "#         size = 9\n",
    "#         r=2\n",
    "#     fullarea = size**2\n",
    "#     cx = size//2\n",
    "#     cy = cx\n",
    "    c_ = size_//2\n",
    "    centers = [(0,c_),(c_, 0),(size_-1, c_),(c_,size_-1)]\n",
    "    arr = np.ones((size_, size_),dtype=np.float)\n",
    "    for center in centers:\n",
    "#         print(center)\n",
    "        cv2.circle(arr, center, r, (-1,), -1)\n",
    "    \n",
    "#     print(arr)\n",
    "    if size_>15:\n",
    "        arr = cv2.resize(arr, (size, size))\n",
    "    posroi = arr >0\n",
    "    negroi = arr <= 0\n",
    "    arr[posroi] = 1\n",
    "    arr[negroi] = -1\n",
    "#     print(posroi)\n",
    "#     print(negroi)\n",
    "    posarea = np.sum(posroi)\n",
    "    negarea = np.sum(negroi)\n",
    "#     print(posarea, negarea)\n",
    "    arr[posroi] /= posarea\n",
    "    arr[negroi] /= negarea\n",
    "    print(np.sum(arr))\n",
    "#     print(arr)\n",
    "    return arr\n",
    "\n",
    "arr1 = gen_harr9(9)\n",
    "arr2 = gen_harr9(11)\n",
    "arr3 = gen_harr9(13)\n",
    "arr4 = gen_harr9(15)\n",
    "arr5 = gen_harr9(17)\n",
    "arr6 = gen_harr9(19)\n",
    "arr7 = gen_harr9(21)\n",
    "\n",
    "show_harrkernel(arr1)\n",
    "show_harrkernel(arr2)\n",
    "show_harrkernel(arr3)\n",
    "show_harrkernel(arr4)\n",
    "show_harrkernel(arr5)\n",
    "show_harrkernel(arr6)\n",
    "show_harrkernel(arr7)\n",
    "        "
   ]
  },
  {
   "cell_type": "code",
   "execution_count": 236,
   "metadata": {
    "scrolled": true
   },
   "outputs": [
    {
     "data": {
      "text/plain": [
       "array([[ 1.,  1.,  1., -1.,  1.,  1.],\n",
       "       [ 1.,  1.,  1.,  1.,  1.,  1.],\n",
       "       [ 1.,  1.,  1.,  1.,  1.,  1.],\n",
       "       [ 1.,  1.,  1., -1., -1., -1.],\n",
       "       [ 1.,  1.,  1., -1., -1., -1.],\n",
       "       [ 1.,  1.,  1., -1., -1., -1.]])"
      ]
     },
     "execution_count": 236,
     "metadata": {},
     "output_type": "execute_result"
    },
    {
     "data": {
      "image/png": "[encoded data removed]",
      "text/plain": [
       "<Figure size 432x288 with 1 Axes>"
      ]
     },
     "metadata": {
      "needs_background": "light"
     },
     "output_type": "display_data"
    }
   ],
   "source": [
    "arr2= np.array([[ 1.,  1.,  1.,  -1.,  1.,  1.],\n",
    "       [ 1.,  1.,  1.,  1.,  1.,  1.],\n",
    "       [ 1.,  1.,  1.,  1.,  1.,  1.],\n",
    "       [ 1.,  1.,  1., -1., -1., -1.],\n",
    "       [ 1.,  1.,  1., -1., -1., -1.],\n",
    "       [ 1.,  1.,  1., -1., -1., -1.]])\n",
    "arr2\n",
    "show_harrkernel(arr2)"
   ]
  },
  {
   "cell_type": "markdown",
   "metadata": {},
   "source": [
    "# numba"
   ]
  },
  {
   "cell_type": "code",
   "execution_count": 52,
   "metadata": {},
   "outputs": [],
   "source": [
    "from numba import jit"
   ]
  },
  {
   "cell_type": "code",
   "execution_count": 50,
   "metadata": {},
   "outputs": [
    {
     "data": {
      "text/plain": [
       "462.25864742317947"
      ]
     },
     "execution_count": 50,
     "metadata": {},
     "output_type": "execute_result"
    }
   ],
   "source": [
    "def func(n):\n",
    "    result = 0\n",
    "    for i in range(n):\n",
    "        for j in range(n):\n",
    "            for k in range(n):\n",
    "                result += np.sin(np.log(i+j+k+1))\n",
    "    return result\n",
    "func(10)"
   ]
  },
  {
   "cell_type": "code",
   "execution_count": 53,
   "metadata": {},
   "outputs": [],
   "source": [
    "@jit(nopython=True)\n",
    "def funcn(n):\n",
    "    result = 0\n",
    "    for i in range(n):\n",
    "        for j in range(n):\n",
    "            for k in range(n):\n",
    "                result += np.sin(np.log(i+j+k+1))\n",
    "    return result"
   ]
  },
  {
   "cell_type": "code",
   "execution_count": 82,
   "metadata": {},
   "outputs": [
    {
     "data": {
      "text/plain": [
       "tensor([462.2616])"
      ]
     },
     "execution_count": 82,
     "metadata": {},
     "output_type": "execute_result"
    }
   ],
   "source": [
    "# @jit(nopython=True)\n",
    "def funct(n):\n",
    "    result = torch.Tensor([0])\n",
    "    for i in range(n):\n",
    "        for j in range(n):\n",
    "            for k in range(n):\n",
    "                result += torch.sin(torch.log(torch.Tensor([i+j+k+1])))\n",
    "    return result\n",
    "funct(10)"
   ]
  },
  {
   "cell_type": "code",
   "execution_count": 92,
   "metadata": {},
   "outputs": [
    {
     "data": {
      "text/plain": [
       "True"
      ]
     },
     "execution_count": 92,
     "metadata": {},
     "output_type": "execute_result"
    }
   ],
   "source": [
    "id(np.dot) == id(np.core.multiarray.dot) "
   ]
  },
  {
   "cell_type": "code",
   "execution_count": 88,
   "metadata": {
    "scrolled": true
   },
   "outputs": [
    {
     "name": "stdout",
     "output_type": "stream",
     "text": [
      "4.94 ms ± 502 µs per loop (mean ± std. dev. of 7 runs, 100 loops each)\n"
     ]
    }
   ],
   "source": [
    "%timeit func(10)"
   ]
  },
  {
   "cell_type": "code",
   "execution_count": 89,
   "metadata": {
    "scrolled": true
   },
   "outputs": [
    {
     "name": "stdout",
     "output_type": "stream",
     "text": [
      "39.7 µs ± 5.75 µs per loop (mean ± std. dev. of 7 runs, 10000 loops each)\n"
     ]
    }
   ],
   "source": [
    "%timeit funcn(10)"
   ]
  },
  {
   "cell_type": "code",
   "execution_count": 90,
   "metadata": {
    "scrolled": false
   },
   "outputs": [
    {
     "name": "stdout",
     "output_type": "stream",
     "text": [
      "23.4 ms ± 2.98 ms per loop (mean ± std. dev. of 7 runs, 10 loops each)\n"
     ]
    }
   ],
   "source": [
    "%timeit funct(10)"
   ]
  },
  {
   "cell_type": "code",
   "execution_count": 87,
   "metadata": {},
   "outputs": [
    {
     "data": {
      "text/plain": [
       "tensor([-901212.1875])"
      ]
     },
     "execution_count": 87,
     "metadata": {},
     "output_type": "execute_result"
    }
   ],
   "source": [
    "funct(100)"
   ]
  },
  {
   "cell_type": "markdown",
   "metadata": {},
   "source": [
    "## opencv"
   ]
  },
  {
   "cell_type": "code",
   "execution_count": 64,
   "metadata": {},
   "outputs": [],
   "source": [
    "imgpath = r\"C:\\Users\\AI-046\\Pictures\\background.jpeg\"\n",
    "# print(os.path.exists(imgpath))\n",
    "img = cv2.imread(imgpath, 0)\n",
    "# print(img.shape)"
   ]
  },
  {
   "cell_type": "code",
   "execution_count": 71,
   "metadata": {},
   "outputs": [],
   "source": [
    "def gaussianBlur(img):\n",
    "    img = cv2.GaussianBlur(img, (3,3),0)\n",
    "    return img\n",
    "# @jit(nopython=True)\n",
    "def gaussianBlurn(img):\n",
    "    img = cv2.GaussianBlur(img, (3,3),0)\n",
    "    return img"
   ]
  },
  {
   "cell_type": "code",
   "execution_count": 66,
   "metadata": {},
   "outputs": [
    {
     "name": "stdout",
     "output_type": "stream",
     "text": [
      "2.56 ms ± 49 µs per loop (mean ± std. dev. of 7 runs, 100 loops each)\n"
     ]
    }
   ],
   "source": [
    "%timeit gaussianBlur(img)"
   ]
  },
  {
   "cell_type": "code",
   "execution_count": 72,
   "metadata": {},
   "outputs": [
    {
     "data": {
      "text/plain": [
       "array([[86, 86, 86, ..., 71, 70, 69],\n",
       "       [86, 86, 86, ..., 71, 70, 70],\n",
       "       [86, 86, 86, ..., 71, 72, 72],\n",
       "       ...,\n",
       "       [61, 62, 61, ..., 31, 57, 77],\n",
       "       [61, 62, 61, ..., 22, 41, 57],\n",
       "       [60, 60, 60, ..., 18, 33, 46]], dtype=uint8)"
      ]
     },
     "execution_count": 72,
     "metadata": {},
     "output_type": "execute_result"
    }
   ],
   "source": [
    "gaussianBlurn(img)"
   ]
  },
  {
   "cell_type": "markdown",
   "metadata": {},
   "source": [
    "# test"
   ]
  },
  {
   "cell_type": "code",
   "execution_count": 12,
   "metadata": {
    "scrolled": true
   },
   "outputs": [
    {
     "data": {
      "text/plain": [
       "array([[ 0,  1,  2,  3],\n",
       "       [ 4,  5,  6,  7],\n",
       "       [ 8,  9, 10, 11],\n",
       "       [12, 13, 14, 15],\n",
       "       [16, 17, 18, 19],\n",
       "       [20, 21, 22, 23]])"
      ]
     },
     "execution_count": 12,
     "metadata": {},
     "output_type": "execute_result"
    },
    {
     "data": {
      "text/plain": [
       "array([7, 8])"
      ]
     },
     "execution_count": 12,
     "metadata": {},
     "output_type": "execute_result"
    },
    {
     "data": {
      "text/plain": [
       "array([2, 2, 1, 1, 1])"
      ]
     },
     "execution_count": 12,
     "metadata": {},
     "output_type": "execute_result"
    },
    {
     "data": {
      "text/plain": [
       "array([4, 5, 1, 4, 0])"
      ]
     },
     "execution_count": 12,
     "metadata": {},
     "output_type": "execute_result"
    },
    {
     "data": {
      "text/plain": [
       "array([ 26,   3,   4, -10,  16])"
      ]
     },
     "execution_count": 12,
     "metadata": {},
     "output_type": "execute_result"
    },
    {
     "data": {
      "text/plain": [
       "array([[ 0,  1,  2,  3],\n",
       "       [ 4,  5,  6,  7],\n",
       "       [ 8,  9, 10, 11],\n",
       "       [12, 13, 14, 15],\n",
       "       [16, 17, 18, 19],\n",
       "       [20, 21, 22, 23]])"
      ]
     },
     "execution_count": 12,
     "metadata": {},
     "output_type": "execute_result"
    },
    {
     "data": {
      "text/plain": [
       "array([[ 0, 17,  2,  3],\n",
       "       [ 4,  9,  6,  7],\n",
       "       [ 8,  9, 10, 11],\n",
       "       [12, 13, 14, 15],\n",
       "       [16,  7, 44, 19],\n",
       "       [20, 21, 25, 23]])"
      ]
     },
     "execution_count": 12,
     "metadata": {},
     "output_type": "execute_result"
    }
   ],
   "source": [
    "a = np.arange(24).reshape(6,4)\n",
    "h, w = a.shape\n",
    "a\n",
    "x = np.random.randint(0,w,(5,))\n",
    "y = np.random.randint(0,h,(5,))\n",
    "r = np.random.randint(-10, 30, (5,))\n",
    "a[[1,2],[3,0]]\n",
    "x\n",
    "y\n",
    "r\n",
    "a\n",
    "a[y, x] += r\n",
    "a"
   ]
  },
  {
   "cell_type": "code",
   "execution_count": 34,
   "metadata": {},
   "outputs": [
    {
     "data": {
      "text/plain": [
       "0"
      ]
     },
     "execution_count": 34,
     "metadata": {},
     "output_type": "execute_result"
    }
   ],
   "source": [
    "np.random.randint(0,1)"
   ]
  },
  {
   "cell_type": "code",
   "execution_count": 35,
   "metadata": {
    "scrolled": true
   },
   "outputs": [
    {
     "data": {
      "text/plain": [
       "array([200], dtype=uint8)"
      ]
     },
     "execution_count": 35,
     "metadata": {},
     "output_type": "execute_result"
    },
    {
     "data": {
      "text/plain": [
       "array([144], dtype=uint8)"
      ]
     },
     "execution_count": 35,
     "metadata": {},
     "output_type": "execute_result"
    }
   ],
   "source": [
    "a = np.array([200], dtype=np.uint8)\n",
    "b = a*2\n",
    "a\n",
    "b"
   ]
  },
  {
   "cell_type": "code",
   "execution_count": 40,
   "metadata": {},
   "outputs": [
    {
     "data": {
      "text/plain": [
       "tensor([[[ 0,  1,  2],\n",
       "         [ 3,  4,  5],\n",
       "         [ 6,  7,  8],\n",
       "         [ 9, 10, 11]]], dtype=torch.int32)"
      ]
     },
     "execution_count": 40,
     "metadata": {},
     "output_type": "execute_result"
    },
    {
     "data": {
      "text/plain": [
       "torch.Size([1, 4, 3])"
      ]
     },
     "execution_count": 40,
     "metadata": {},
     "output_type": "execute_result"
    }
   ],
   "source": [
    "tran = transforms.ToTensor()\n",
    "a = np.arange(12).reshape(4, 3, 1)\n",
    "c = tran(a)\n",
    "c\n",
    "c.shape"
   ]
  },
  {
   "cell_type": "code",
   "execution_count": 74,
   "metadata": {},
   "outputs": [
    {
     "data": {
      "text/plain": [
       "array([False, False, False, False, False, False,  True,  True,  True,\n",
       "        True])"
      ]
     },
     "execution_count": 74,
     "metadata": {},
     "output_type": "execute_result"
    },
    {
     "data": {
      "text/plain": [
       "False"
      ]
     },
     "execution_count": 74,
     "metadata": {},
     "output_type": "execute_result"
    },
    {
     "data": {
      "text/plain": [
       "0.905874152916164"
      ]
     },
     "execution_count": 74,
     "metadata": {},
     "output_type": "execute_result"
    }
   ],
   "source": [
    "m = np.arange(-5,5)>0\n",
    "m\n",
    "a = np.random.randint(-5,5)>0\n",
    "a\n",
    "f = 1 if a else -1\n",
    "b = 1+f*np.random.rand()*0.2\n",
    "b\n",
    "\n"
   ]
  },
  {
   "cell_type": "code",
   "execution_count": 6,
   "metadata": {},
   "outputs": [
    {
     "data": {
      "text/plain": [
       "tensor([0, 4, 3, 3, 2, 4, 6, 0, 1, 8])"
      ]
     },
     "execution_count": 6,
     "metadata": {},
     "output_type": "execute_result"
    },
    {
     "data": {
      "text/plain": [
       "tensor([[0],\n",
       "        [2],\n",
       "        [5],\n",
       "        [7],\n",
       "        [0],\n",
       "        [4],\n",
       "        [5],\n",
       "        [6],\n",
       "        [3],\n",
       "        [4]])"
      ]
     },
     "execution_count": 6,
     "metadata": {},
     "output_type": "execute_result"
    }
   ],
   "source": [
    "torch.LongTensor(10).random_(0, 10)\n",
    "one_hot_indices = torch.LongTensor(10) \\\n",
    "                           .random_(0, 10) \\\n",
    "                           .view(10, 1)\n",
    "one_hot_indices"
   ]
  },
  {
   "cell_type": "code",
   "execution_count": 80,
   "metadata": {},
   "outputs": [
    {
     "data": {
      "text/plain": [
       "dtype('uint8')"
      ]
     },
     "execution_count": 80,
     "metadata": {},
     "output_type": "execute_result"
    }
   ],
   "source": [
    "a = np.array([1,2,3])\n",
    "a = a>1\n",
    "a = a.astype(np.uint8)\n",
    "a = a * 255\n",
    "a.dtype"
   ]
  },
  {
   "cell_type": "code",
   "execution_count": 7,
   "metadata": {},
   "outputs": [
    {
     "data": {
      "text/plain": [
       "16777216"
      ]
     },
     "execution_count": 7,
     "metadata": {},
     "output_type": "execute_result"
    }
   ],
   "source": [
    "2**24"
   ]
  },
  {
   "cell_type": "code",
   "execution_count": 9,
   "metadata": {},
   "outputs": [
    {
     "data": {
      "text/plain": [
       "[1]"
      ]
     },
     "execution_count": 9,
     "metadata": {},
     "output_type": "execute_result"
    },
    {
     "data": {
      "text/plain": [
       "[1]"
      ]
     },
     "execution_count": 9,
     "metadata": {},
     "output_type": "execute_result"
    }
   ],
   "source": [
    "a = 1\n",
    "b = [a]\n",
    "b\n",
    "a = 2\n",
    "b"
   ]
  },
  {
   "cell_type": "code",
   "execution_count": 2,
   "metadata": {},
   "outputs": [
    {
     "data": {
      "text/plain": [
       "[3, 4]"
      ]
     },
     "execution_count": 2,
     "metadata": {},
     "output_type": "execute_result"
    }
   ],
   "source": [
    "a = [1,3,4]\n",
    "a[1:100]"
   ]
  },
  {
   "cell_type": "code",
   "execution_count": 3,
   "metadata": {},
   "outputs": [
    {
     "data": {
      "text/plain": [
       "dict_values([[1, 2, 3], [4, 5]])"
      ]
     },
     "execution_count": 3,
     "metadata": {},
     "output_type": "execute_result"
    }
   ],
   "source": [
    "a = {0:[1,2,3],1:[4,5]}\n",
    "a.values()"
   ]
  },
  {
   "cell_type": "code",
   "execution_count": 10,
   "metadata": {},
   "outputs": [
    {
     "data": {
      "text/plain": [
       "1"
      ]
     },
     "execution_count": 10,
     "metadata": {},
     "output_type": "execute_result"
    },
    {
     "data": {
      "text/plain": [
       "int"
      ]
     },
     "execution_count": 10,
     "metadata": {},
     "output_type": "execute_result"
    }
   ],
   "source": [
    "a = np.random.randint(0, 2)\n",
    "a\n",
    "type(a)"
   ]
  },
  {
   "cell_type": "code",
   "execution_count": 7,
   "metadata": {},
   "outputs": [
    {
     "data": {
      "text/plain": [
       "'a'"
      ]
     },
     "execution_count": 7,
     "metadata": {},
     "output_type": "execute_result"
    }
   ],
   "source": [
    "a = {1:'a'}\n",
    "a.get(1)"
   ]
  },
  {
   "cell_type": "code",
   "execution_count": 10,
   "metadata": {},
   "outputs": [
    {
     "name": "stdout",
     "output_type": "stream",
     "text": [
      "x1:torch.Size([1, 1, 4, 4]), x2:torch.Size([1, 1, 4, 4]), x3:torch.Size([1, 1, 4, 4]), x4:torch.Size([1, 1, 4, 4])\n"
     ]
    },
    {
     "data": {
      "text/plain": [
       "tensor([[[[ 0,  2,  4,  6],\n",
       "          [16, 18, 20, 22],\n",
       "          [32, 34, 36, 38],\n",
       "          [48, 50, 52, 54]],\n",
       "\n",
       "         [[ 1,  3,  5,  7],\n",
       "          [17, 19, 21, 23],\n",
       "          [33, 35, 37, 39],\n",
       "          [49, 51, 53, 55]],\n",
       "\n",
       "         [[ 8, 10, 12, 14],\n",
       "          [24, 26, 28, 30],\n",
       "          [40, 42, 44, 46],\n",
       "          [56, 58, 60, 62]],\n",
       "\n",
       "         [[ 9, 11, 13, 15],\n",
       "          [25, 27, 29, 31],\n",
       "          [41, 43, 45, 47],\n",
       "          [57, 59, 61, 63]]]])"
      ]
     },
     "execution_count": 10,
     "metadata": {},
     "output_type": "execute_result"
    },
    {
     "data": {
      "text/plain": [
       "tensor([[[[ 0,  2,  4,  6],\n",
       "          [16, 18, 20, 22],\n",
       "          [32, 34, 36, 38],\n",
       "          [48, 50, 52, 54]]]])"
      ]
     },
     "execution_count": 10,
     "metadata": {},
     "output_type": "execute_result"
    },
    {
     "data": {
      "text/plain": [
       "tensor([[[[ 1,  3,  5,  7],\n",
       "          [17, 19, 21, 23],\n",
       "          [33, 35, 37, 39],\n",
       "          [49, 51, 53, 55]]]])"
      ]
     },
     "execution_count": 10,
     "metadata": {},
     "output_type": "execute_result"
    },
    {
     "data": {
      "text/plain": [
       "tensor([[[[ 8, 10, 12, 14],\n",
       "          [24, 26, 28, 30],\n",
       "          [40, 42, 44, 46],\n",
       "          [56, 58, 60, 62]]]])"
      ]
     },
     "execution_count": 10,
     "metadata": {},
     "output_type": "execute_result"
    },
    {
     "data": {
      "text/plain": [
       "tensor([[[[ 9, 11, 13, 15],\n",
       "          [25, 27, 29, 31],\n",
       "          [41, 43, 45, 47],\n",
       "          [57, 59, 61, 63]]]])"
      ]
     },
     "execution_count": 10,
     "metadata": {},
     "output_type": "execute_result"
    }
   ],
   "source": [
    "x = torch.arange(64).reshape(1,1,8,8)\n",
    "x1 = x[:,:,::2,::2]\n",
    "x2 = x[:,:,::2,1::2]\n",
    "x3 = x[:,:,1::2,::2]\n",
    "x4 = x[:,:,1::2,1::2]\n",
    "x = torch.cat((x1,x2,x3,x4), dim=1)\n",
    "print(f\"x1:{x1.shape}, x2:{x2.shape}, x3:{x3.shape}, x4:{x4.shape}\")\n",
    "x\n",
    "x1\n",
    "x2\n",
    "x3\n",
    "x4"
   ]
  },
  {
   "cell_type": "code",
   "execution_count": null,
   "metadata": {},
   "outputs": [],
   "source": []
  },
  {
   "cell_type": "code",
   "execution_count": null,
   "metadata": {},
   "outputs": [],
   "source": []
  },
  {
   "cell_type": "code",
   "execution_count": null,
   "metadata": {},
   "outputs": [],
   "source": []
  },
  {
   "cell_type": "markdown",
   "metadata": {},
   "source": [
    "# markdown\n"
   ]
  },
  {
   "cell_type": "markdown",
   "metadata": {},
   "source": []
  },
  {
   "cell_type": "markdown",
   "metadata": {},
   "source": [
    "```flow\n",
    "st=>start: 开始框\n",
    "op=>operation: 处理框\n",
    "cond=>condition: 判断框(是或否?)\n",
    "sub1=>subroutine: 子流程\n",
    "io=>inputoutput: 输入输出框\n",
    "e=>end: 结束框\n",
    "st->op->cond\n",
    "cond(yes)->io->e\n",
    "cond(no)->sub1(right)->op\n",
    "```"
   ]
  }
 ],
 "metadata": {
  "kernelspec": {
   "display_name": "Python 3",
   "language": "python",
   "name": "python3"
  },
  "language_info": {
   "codemirror_mode": {
    "name": "ipython",
    "version": 3
   },
   "file_extension": ".py",
   "mimetype": "text/x-python",
   "name": "python",
   "nbconvert_exporter": "python",
   "pygments_lexer": "ipython3",
   "version": "3.8.5"
  },
  "toc": {
   "base_numbering": 1,
   "nav_menu": {},
   "number_sections": true,
   "sideBar": true,
   "skip_h1_title": false,
   "title_cell": "Table of Contents",
   "title_sidebar": "Contents",
   "toc_cell": false,
   "toc_position": {
    "height": "calc(100% - 180px)",
    "left": "10px",
    "top": "150px",
    "width": "219.429px"
   },
   "toc_section_display": true,
   "toc_window_display": true
  }
 },
 "nbformat": 4,
 "nbformat_minor": 4
}
